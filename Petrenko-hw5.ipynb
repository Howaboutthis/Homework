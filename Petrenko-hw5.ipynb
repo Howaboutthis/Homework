{
 "cells": [
  {
   "cell_type": "markdown",
   "metadata": {},
   "source": [
    "<center><img src=\"images/header.png\"></center>\n",
    "\n",
    "<h1><center>Алгоритмы интеллектуальной обработки больших объемов данных</center></h1>\n",
    "<hr>\n",
    "<h2><center>SVM, Kernel Trick (практика)</center></h2>"
   ]
  },
  {
   "cell_type": "markdown",
   "metadata": {},
   "source": [
    "**Срок сдачи:** 24 апреля 2017, 06:00 <br> \n",
    "**Штраф за опоздание:** -2 балла после 06:00 24 апреля, -4 балла после 06:00 1 мая, -6 баллов после 06:00 8 мая\n",
    "\n",
    "При отправлении ДЗ указывайте фамилию в названии файла<br>\n",
    "\n",
    "Не забудте создать задание в Slack через /todo.\n",
    "\n",
    "Используйте данный Ipython Notebook при оформлении домашнего задания."
   ]
  },
  {
   "cell_type": "code",
   "execution_count": 1,
   "metadata": {
    "collapsed": true
   },
   "outputs": [],
   "source": [
    "import os\n",
    "import numpy as np\n",
    "import pandas as pd\n",
    "import matplotlib.pyplot as plt\n",
    "from tqdm import tqdm_notebook\n",
    "from sklearn.svm import SVR\n",
    "from sklearn.svm import SVC\n",
    "from sklearn.model_selection import cross_val_score\n",
    "\n",
    "%matplotlib inline\n",
    "\n",
    "plt.style.use('ggplot')\n",
    "plt.rcParams['figure.figsize'] = (12, 6)"
   ]
  },
  {
   "cell_type": "markdown",
   "metadata": {},
   "source": [
    "# Семинарская часть"
   ]
  },
  {
   "cell_type": "markdown",
   "metadata": {},
   "source": [
    "Функция `select_model` принимает на вход обучающую выборку и возвращает модель (машину опорных векторов) с наилучшими параметрами для данной выборки. Эту функцию нужно реализовать.\n",
    "\n",
    "Подбираемые параметры подели включают в себя:\n",
    "- различные функции ядра (линейное, RBF, полиномиальные разных степеней)\n",
    "- различные значения константы $C$ ($0, 0.1, 1, 10, 100, 1000, 10000$)\n",
    "\n",
    "Подбирать параметры необходимо с помощью 10-fold кросс-валидации. Сейчас в качестве заглушки функция всегда возвращает линейный SVC."
   ]
  },
  {
   "cell_type": "code",
   "execution_count": 16,
   "metadata": {
    "collapsed": true
   },
   "outputs": [],
   "source": [
    "from sklearn.model_selection import KFold"
   ]
  },
  {
   "cell_type": "code",
   "execution_count": 21,
   "metadata": {
    "collapsed": true
   },
   "outputs": [],
   "source": [
    "def select_model(x, y):\n",
    "    \"\"\"\n",
    "    Implement some model selection strategy here:\n",
    "    seek through different kernels and parameters.\n",
    "\n",
    "    Use a validation scheme to select the best model\n",
    "    \n",
    "    Quality metric: accuracy\n",
    "\n",
    "    Returns:\n",
    "        SVM classifier implemented by sklearn SVC class.\n",
    "    \"\"\"\n",
    "    best_accuracy = 0\n",
    "    best_model = None\n",
    "    list_of_kernels=('linear', 'poly', 'rbf', 'sigmoid')\n",
    "    list_of_cs=(0.1,1,10,100,1000,10000)\n",
    "    for kernel in list_of_kernels:\n",
    "        for C in list_of_cs:\n",
    "            accuracy=0\n",
    "            model = SVC(C=C,kernel=kernel)\n",
    "            print \"Trying model {}\".format(model)\n",
    "            kf=KFold(n_splits=10)\n",
    "            for train_index, test_index in kf.split(x):\n",
    "                x_train, x_test = x[train_index], x[test_index]\n",
    "                y_train, y_test = y[train_index], y[test_index]\n",
    "                model.fit(x_train,y_train)\n",
    "                accuracy+= np.mean(cross_val_score(model, x_test, y_test))\n",
    "            accuracy/=10\n",
    "            if (accuracy>best_accuracy):\n",
    "                best_accuracy=accuracy\n",
    "                best_model=model\n",
    "    best_model.fit(x, y)\n",
    "    print \"Best model %s, with accuracy %f\" % (best_model, best_accuracy)\n",
    "    return best_model"
   ]
  },
  {
   "cell_type": "markdown",
   "metadata": {},
   "source": [
    "Далее две вспомогательные функции, которые отображают данные и разделяющую поверхность"
   ]
  },
  {
   "cell_type": "code",
   "execution_count": 7,
   "metadata": {
    "collapsed": true
   },
   "outputs": [],
   "source": [
    "def plot_data_set(x, y, description=''):\n",
    "    print \"Plotting data set points\"\n",
    "    plt.figure(figsize=(8, 8))\n",
    "\n",
    "    colors = np.array(['r', 'b'])[y]\n",
    "    plt.title(description, fontsize='small')\n",
    "    plt.scatter(x[:, 0], x[:, 1], marker='o', c=colors, s=50)\n",
    "    \n",
    "def plot_decision_region(x1_min, x2_min, x1_max, x2_max, clf, n_points=1000):\n",
    "    print \"Plotting decision region\"\n",
    "    x1, x2 = np.meshgrid(np.linspace(x1_min, x1_max, n_points), np.linspace(x2_min, x2_max, n_points))\n",
    "    z = clf.decision_function(np.c_[x1.ravel(), x2.ravel()]).reshape(x1.shape)\n",
    "\n",
    "    plt.contour(x1, x2, z, levels=[0.0], linestyles='solid', linewidths=2.0)\n",
    "    plt.contour(x1, x2, z, levels=[-1.0, 1.0], linestyles='dashed', linewidths=1.0)"
   ]
  },
  {
   "cell_type": "code",
   "execution_count": null,
   "metadata": {
    "collapsed": true
   },
   "outputs": [],
   "source": [
    "def generate_linear(size=100, k=1.1, b=0.0, nl=0.1):\n",
    "    print \"Generating 'Linearly-separated' data set\"\n",
    "\n",
    "    x = np.random.random((size, 2))\n",
    "    y = np.zeros(size, dtype=int)\n",
    "    noise = np.random.randn(size) * nl\n",
    "    y[x[:, 1] - (k * x[:, 0] + b) > noise] = 1\n",
    "\n",
    "    return x, y\n",
    "\n",
    "x, y = generate_linear()\n",
    "clf = select_model(x, y)\n",
    "plot_data_set(x, y)\n",
    "plot_decision_region(x[:, 0].min(), x[:, 1].min(), x[:, 0].max(), x[:, 1].max(), clf)"
   ]
  },
  {
   "cell_type": "code",
   "execution_count": null,
   "metadata": {
    "collapsed": true
   },
   "outputs": [],
   "source": [
    "def generate_concentric(size=100, r1=1.0, r2=2.0, sigma=0.3):\n",
    "    print \"Generating 'Concentric circles' data set\"\n",
    "    x = np.zeros((size, 2))\n",
    "    x[:size/2, 0] = sigma * np.random.randn(size/2) + r1\n",
    "    x[size/2:, 0] = sigma * np.random.randn(size/2) + r2\n",
    "    x[:, 1] = (np.random.random(size) - 0.5) * 2 * np.pi\n",
    "    y = np.hstack([np.zeros(size/2, dtype=int), np.ones(size/2, dtype=int)])\n",
    "\n",
    "    z = np.zeros((size, 2))\n",
    "    z[:, 0] = x[:, 0] * np.cos(x[:, 1])\n",
    "    z[:, 1] = x[:, 0] * np.sin(x[:, 1])\n",
    "\n",
    "    return z, y\n",
    "\n",
    "x, y = generate_concentric()\n",
    "clf = select_model(x, y)\n",
    "plot_data_set(x, y)\n",
    "plot_decision_region(x[:, 0].min(), x[:, 1].min(), x[:, 0].max(), x[:, 1].max(), clf)"
   ]
  },
  {
   "cell_type": "code",
   "execution_count": null,
   "metadata": {
    "collapsed": true
   },
   "outputs": [],
   "source": [
    "def generate_sin(size=200):\n",
    "    print \"Generating 'Sinus-separated' data set\"\n",
    "\n",
    "    x = np.random.random((size, 2))\n",
    "    x[:, 0] = x[:, 0] * 4 * np.pi\n",
    "    x[:, 1] = (x[:, 1] - 0.5) * 2\n",
    "    y = np.zeros(size, dtype=int)\n",
    "    y[x[:, 1] > np.sin(x[:, 0])] = 1\n",
    "\n",
    "    return x, y\n",
    "\n",
    "x, y = generate_sin()\n",
    "clf = select_model(x, y)\n",
    "plot_data_set(x, y)\n",
    "plot_decision_region(x[:, 0].min(), x[:, 1].min(), x[:, 0].max(), x[:, 1].max(), clf)"
   ]
  },
  {
   "cell_type": "markdown",
   "metadata": {},
   "source": [
    "# Регрессия с SVM (3 балла)"
   ]
  },
  {
   "cell_type": "markdown",
   "metadata": {},
   "source": [
    "Загрузите набор данных из *titanium.csv*<br/>\n",
    "Мы будем решать задачу восстановления столбца 'y' по столбцу 'x'."
   ]
  },
  {
   "cell_type": "code",
   "execution_count": 2,
   "metadata": {},
   "outputs": [
    {
     "data": {
      "text/html": [
       "<div>\n",
       "<table border=\"1\" class=\"dataframe\">\n",
       "  <thead>\n",
       "    <tr style=\"text-align: right;\">\n",
       "      <th></th>\n",
       "      <th>x</th>\n",
       "      <th>y</th>\n",
       "    </tr>\n",
       "  </thead>\n",
       "  <tbody>\n",
       "    <tr>\n",
       "      <th>0</th>\n",
       "      <td>585.0</td>\n",
       "      <td>0.644</td>\n",
       "    </tr>\n",
       "    <tr>\n",
       "      <th>1</th>\n",
       "      <td>595.0</td>\n",
       "      <td>0.622</td>\n",
       "    </tr>\n",
       "    <tr>\n",
       "      <th>2</th>\n",
       "      <td>605.0</td>\n",
       "      <td>0.638</td>\n",
       "    </tr>\n",
       "    <tr>\n",
       "      <th>3</th>\n",
       "      <td>615.0</td>\n",
       "      <td>0.649</td>\n",
       "    </tr>\n",
       "    <tr>\n",
       "      <th>4</th>\n",
       "      <td>625.0</td>\n",
       "      <td>0.652</td>\n",
       "    </tr>\n",
       "  </tbody>\n",
       "</table>\n",
       "</div>"
      ],
      "text/plain": [
       "       x      y\n",
       "0  585.0  0.644\n",
       "1  595.0  0.622\n",
       "2  605.0  0.638\n",
       "3  615.0  0.649\n",
       "4  625.0  0.652"
      ]
     },
     "execution_count": 2,
     "metadata": {},
     "output_type": "execute_result"
    }
   ],
   "source": [
    "df=pd.read_csv('titanium.csv')\n",
    "df.head()"
   ]
  },
  {
   "cell_type": "markdown",
   "metadata": {},
   "source": [
    "## Визуализация данных (1 балл)"
   ]
  },
  {
   "cell_type": "markdown",
   "metadata": {},
   "source": [
    "Выполните стандартную предобработку данных (z-score) и выведите их на графике."
   ]
  },
  {
   "cell_type": "code",
   "execution_count": 10,
   "metadata": {
    "collapsed": true
   },
   "outputs": [],
   "source": [
    "from sklearn import preprocessing"
   ]
  },
  {
   "cell_type": "code",
   "execution_count": 11,
   "metadata": {
    "collapsed": true
   },
   "outputs": [],
   "source": [
    "df_scaled = preprocessing.scale(df)"
   ]
  },
  {
   "cell_type": "code",
   "execution_count": 12,
   "metadata": {},
   "outputs": [
    {
     "data": {
      "text/plain": [
       "<matplotlib.collections.PathCollection at 0xd532ef0>"
      ]
     },
     "execution_count": 12,
     "metadata": {},
     "output_type": "execute_result"
    },
    {
     "data": {
      "image/png": "[encoded data removed]",
      "text/plain": [
       "<matplotlib.figure.Figure at 0xc2c56a0>"
      ]
     },
     "metadata": {},
     "output_type": "display_data"
    }
   ],
   "source": [
    "fig = plt.figure(figsize=(14, 7))\n",
    "#ax = fig.add_subplot(1, 2, 1)\n",
    "plt.axis([-4.0, 4.0,-4.0, 4.0])\n",
    "plt.scatter(df_scaled[:,0],df_scaled[:,1])"
   ]
  },
  {
   "cell_type": "markdown",
   "metadata": {},
   "source": [
    "## Обучение моделей (2 балла)"
   ]
  },
  {
   "cell_type": "markdown",
   "metadata": {},
   "source": [
    "Рассмотрите 3 ядра: \n",
    "* Линейное\n",
    "* Полиномиальное (degree = 3, gamma = 6, coef0 = 1)\n",
    "* RBF (gamma = 6, coef0 = 1)\n",
    "\n",
    "Во всех случаях установить ширину трубки `epsilon=0.01`\n",
    "\n",
    "Для каждого из ядер:\n",
    "1. Пусть `C = np.logspace(-2, 2, 10)`. Постройте графики зависимости ошибки от параметра $C$ (ось графика со значениями параметра $C$ должна быть в логарифмической шкале). Ошибка измеряется как средняя абсолютная ошибка. \n",
    "2. Для наулучшего параметра $С$ каждого из ядер постройте график с данными и предстазанием по svm\n",
    "\n",
    "В каких случаях возникает эффекты недообучения, переобучения?"
   ]
  },
  {
   "cell_type": "code",
   "execution_count": 13,
   "metadata": {
    "collapsed": true
   },
   "outputs": [],
   "source": [
    "from sklearn.metrics import mean_absolute_error\n",
    "x,y=df_scaled[:,0],df_scaled[:,1]"
   ]
  },
  {
   "cell_type": "code",
   "execution_count": 14,
   "metadata": {
    "collapsed": true
   },
   "outputs": [],
   "source": [
    "x=x.reshape(-1,1)\n"
   ]
  },
  {
   "cell_type": "code",
   "execution_count": 15,
   "metadata": {},
   "outputs": [
    {
     "data": {
      "image/png": "[encoded data removed]",
      "text/plain": [
       "<matplotlib.figure.Figure at 0xc9acdd8>"
      ]
     },
     "metadata": {},
     "output_type": "display_data"
    }
   ],
   "source": [
    "c=np.logspace(-2,2,10)\n",
    "errors = np.empty(len(c))\n",
    "i=0\n",
    "for C in c:\n",
    "    model=SVR(C=C,kernel='linear',tol=0.01)\n",
    "    model.fit(x,y)\n",
    "    p=model.predict(x)\n",
    "    errors[i]=mean_absolute_error(p,y)\n",
    "    i+=1\n",
    "plt.scatter(c,errors)\n",
    "plt.xscale('log')\n"
   ]
  },
  {
   "cell_type": "code",
   "execution_count": 16,
   "metadata": {},
   "outputs": [
    {
     "data": {
      "text/plain": [
       "<matplotlib.collections.PathCollection at 0xd9e1a20>"
      ]
     },
     "execution_count": 16,
     "metadata": {},
     "output_type": "execute_result"
    },
    {
     "data": {
      "image/png": "[encoded data removed]",
      "text/plain": [
       "<matplotlib.figure.Figure at 0xc48e208>"
      ]
     },
     "metadata": {},
     "output_type": "display_data"
    }
   ],
   "source": [
    "model=SVR(C=c[np.argmin(errors)],kernel='linear',tol=0.01)\n",
    "model.fit(x,y)\n",
    "p=model.predict(x)\n",
    "plt.scatter(df_scaled[:,0],df_scaled[:,1])\n",
    "plt.scatter(df_scaled[:,0],p)"
   ]
  },
  {
   "cell_type": "markdown",
   "metadata": {},
   "source": [
    "Недообучение"
   ]
  },
  {
   "cell_type": "code",
   "execution_count": 17,
   "metadata": {},
   "outputs": [
    {
     "data": {
      "image/png": "[encoded data removed]",
      "text/plain": [
       "<matplotlib.figure.Figure at 0xc213eb8>"
      ]
     },
     "metadata": {},
     "output_type": "display_data"
    }
   ],
   "source": [
    "c=np.logspace(-2,2,10)\n",
    "errors = np.empty(len(c))\n",
    "i=0\n",
    "for C in c:\n",
    "    model=SVR(C=C,kernel='poly',degree=3,gamma=6,coef0=1,tol=0.01)\n",
    "    model.fit(x,y)\n",
    "    p=model.predict(x)\n",
    "    errors[i]=mean_absolute_error(p,y)\n",
    "    i+=1\n",
    "plt.scatter(c,errors)\n",
    "plt.xscale('log')\n"
   ]
  },
  {
   "cell_type": "code",
   "execution_count": 18,
   "metadata": {},
   "outputs": [
    {
     "data": {
      "text/plain": [
       "<matplotlib.collections.PathCollection at 0xe148b70>"
      ]
     },
     "execution_count": 18,
     "metadata": {},
     "output_type": "execute_result"
    },
    {
     "data": {
      "image/png": "[encoded data removed]",
      "text/plain": [
       "<matplotlib.figure.Figure at 0xc48e2b0>"
      ]
     },
     "metadata": {},
     "output_type": "display_data"
    }
   ],
   "source": [
    "model=SVR(C=c[np.argmin(errors)],kernel='poly',degree=3,gamma=6,coef0=1,tol=0.01)\n",
    "model.fit(x,y)\n",
    "p=model.predict(x)\n",
    "plt.scatter(df_scaled[:,0],df_scaled[:,1])\n",
    "plt.scatter(df_scaled[:,0],p)"
   ]
  },
  {
   "cell_type": "markdown",
   "metadata": {},
   "source": [
    "Недообучение"
   ]
  },
  {
   "cell_type": "code",
   "execution_count": 19,
   "metadata": {},
   "outputs": [
    {
     "data": {
      "image/png": "[encoded data removed]",
      "text/plain": [
       "<matplotlib.figure.Figure at 0xd9fd048>"
      ]
     },
     "metadata": {},
     "output_type": "display_data"
    }
   ],
   "source": [
    "c=np.logspace(-2,2,10)\n",
    "errors = np.empty(len(c))\n",
    "i=0\n",
    "for C in c:\n",
    "    model=SVR(C=C,kernel='rbf',gamma=6,coef0=1,tol=0.01)\n",
    "    model.fit(x,y)\n",
    "    p=model.predict(x)\n",
    "    errors[i]=mean_absolute_error(p,y)\n",
    "    i+=1\n",
    "plt.scatter(c,errors)\n",
    "plt.xscale('log')\n"
   ]
  },
  {
   "cell_type": "code",
   "execution_count": 20,
   "metadata": {},
   "outputs": [
    {
     "data": {
      "text/plain": [
       "<matplotlib.collections.PathCollection at 0xd78f4a8>"
      ]
     },
     "execution_count": 20,
     "metadata": {},
     "output_type": "execute_result"
    },
    {
     "data": {
      "image/png": "[encoded data removed]",
      "text/plain": [
       "<matplotlib.figure.Figure at 0xe19a978>"
      ]
     },
     "metadata": {},
     "output_type": "display_data"
    }
   ],
   "source": [
    "model=SVR(C=c[np.argmin(errors)],kernel='rbf',gamma=6,coef0=1,tol=0.01)\n",
    "model.fit(x,y)\n",
    "p=model.predict(x)\n",
    "plt.scatter(df_scaled[:,0],df_scaled[:,1])\n",
    "plt.scatter(df_scaled[:,0],p)"
   ]
  },
  {
   "cell_type": "markdown",
   "metadata": {},
   "source": [
    "Переобучение"
   ]
  },
  {
   "cell_type": "markdown",
   "metadata": {},
   "source": [
    "# Определение языка слова (7 баллов)"
   ]
  },
  {
   "cell_type": "markdown",
   "metadata": {},
   "source": [
    "В данном задании вам необходимо определить, на каком языке написано слово.\n",
    "\n",
    "Вам будет дано два текста - первые предложения произведения \"Война и Мир\" на английком и испанском, разбитые на слова. У слов нет общепринятого числового представления, поэтому мы предлагаем вам реализовать собственноге ядро для SVM, основанное на редакторском расстоянии или [расстоянии Левинштейна](https://ru.wikipedia.org/wiki/%D0%A0%D0%B0%D1%81%D1%81%D1%82%D0%BE%D1%8F%D0%BD%D0%B8%D0%B5_%D0%9B%D0%B5%D0%B2%D0%B5%D0%BD%D1%88%D1%82%D0%B5%D0%B9%D0%BD%D0%B0). \n",
    "\n",
    "Имплементировать расстояние Леванштейна не нужно - можно взять любую доступную реализацию, например [здесь](https://github.com/toastdriven/pylev) или [здесь](https://github.com/ztane/python-Levenshtein)."
   ]
  },
  {
   "cell_type": "markdown",
   "metadata": {},
   "source": [
    "## Загрузка (1 балл)\n",
    "\n",
    "Загрузите данные из файлов *war_and_peace_es.txt* и *war_and_peace_en.txt*.<br/> \n",
    "В результате вы должны получить pandas.DataFrame со столбцами *index* | *word* | *label*, где *index* - это индекс pandas, *word* - это слово и *label* - это метка класса (0 или 1)"
   ]
  },
  {
   "cell_type": "code",
   "execution_count": 71,
   "metadata": {
    "collapsed": true
   },
   "outputs": [],
   "source": [
    "es=pd.read_table('war_and_peace_es.txt')\n",
    "missing=es.columns[0]\n",
    "es.columns=['word']\n",
    "es.loc[es.shape[0],'word']=missing\n",
    "es['label']=0"
   ]
  },
  {
   "cell_type": "code",
   "execution_count": 72,
   "metadata": {
    "collapsed": true
   },
   "outputs": [],
   "source": [
    "en=pd.read_table('war_and_peace_en.txt')\n",
    "missing=en.columns[0]\n",
    "en.columns=['word']\n",
    "en.loc[en.shape[0],'word']=missing\n",
    "en['label']=1\n",
    "en.index+=es.shape[0]"
   ]
  },
  {
   "cell_type": "code",
   "execution_count": 73,
   "metadata": {
    "collapsed": true
   },
   "outputs": [],
   "source": [
    "df=pd.concat([es,en])\n",
    "df.index.name='index'"
   ]
  },
  {
   "cell_type": "code",
   "execution_count": 74,
   "metadata": {},
   "outputs": [
    {
     "data": {
      "text/html": [
       "<div>\n",
       "<table border=\"1\" class=\"dataframe\">\n",
       "  <thead>\n",
       "    <tr style=\"text-align: right;\">\n",
       "      <th></th>\n",
       "      <th>word</th>\n",
       "      <th>label</th>\n",
       "    </tr>\n",
       "    <tr>\n",
       "      <th>index</th>\n",
       "      <th></th>\n",
       "      <th></th>\n",
       "    </tr>\n",
       "  </thead>\n",
       "  <tbody>\n",
       "    <tr>\n",
       "      <th>0</th>\n",
       "      <td>pace</td>\n",
       "      <td>0</td>\n",
       "    </tr>\n",
       "    <tr>\n",
       "      <th>1</th>\n",
       "      <td>lev</td>\n",
       "      <td>0</td>\n",
       "    </tr>\n",
       "    <tr>\n",
       "      <th>2</th>\n",
       "      <td>nicoevic</td>\n",
       "      <td>0</td>\n",
       "    </tr>\n",
       "    <tr>\n",
       "      <th>3</th>\n",
       "      <td>tolstj</td>\n",
       "      <td>0</td>\n",
       "    </tr>\n",
       "    <tr>\n",
       "      <th>4</th>\n",
       "      <td>traduzione</td>\n",
       "      <td>0</td>\n",
       "    </tr>\n",
       "  </tbody>\n",
       "</table>\n",
       "</div>"
      ],
      "text/plain": [
       "             word  label\n",
       "index                   \n",
       "0            pace      0\n",
       "1             lev      0\n",
       "2        nicoevic      0\n",
       "3          tolstj      0\n",
       "4      traduzione      0"
      ]
     },
     "execution_count": 74,
     "metadata": {},
     "output_type": "execute_result"
    }
   ],
   "source": [
    "# like this\n",
    "\n",
    "df.head()"
   ]
  },
  {
   "cell_type": "code",
   "execution_count": 75,
   "metadata": {},
   "outputs": [
    {
     "data": {
      "text/plain": [
       "(11403, 2)"
      ]
     },
     "execution_count": 75,
     "metadata": {},
     "output_type": "execute_result"
    }
   ],
   "source": [
    "df.shape"
   ]
  },
  {
   "cell_type": "markdown",
   "metadata": {},
   "source": [
    "## Подготовка данных (2 балла)\n",
    "\n",
    "Особенностью пользовательского ядра в sklean.SVC является то, что на вход оно должно принимать именно вектора чисел.<br/>\n",
    "В нашем случае это будут индексы соответствующих слов из корпуса. То есть вместо вектора ['treat', 'celebrit', 'prince', ...] на вход в ядро подается вектор из индексов [9209, 11145, 7735, ...] с помощью которых вы будете находить сами слова.\n",
    "\n",
    "Прежде чем мы начнем строить ядро, надо подготовить данные. Для этого:\n",
    "1. Задайте переменную RND_SEED, которая будет использоваться в любых генераторах случайных чисел в вашем коде (обычно параметр \"random_seed\")\n",
    "2. Случайным образом перемешайте и заново проиндексируйте таблицу, полученную выше (используйте методы df.sample() и df.reset_index())\n",
    "3. Ядро может вычисляться достаточно долго, поэтому можете урезать таблицу, но оставить в ней не менее 1000 слов.\n",
    "4. Разбейте данные на обучающую и контрольную выборку в пропорции 60/40\n",
    "\n",
    "В результате вы должны получить вектор-столбец X_train, X_test с **индексами** слов и векторы y_train, y_test с метками классов."
   ]
  },
  {
   "cell_type": "code",
   "execution_count": 76,
   "metadata": {},
   "outputs": [],
   "source": [
    "from sklearn.cross_validation import train_test_split"
   ]
  },
  {
   "cell_type": "code",
   "execution_count": 77,
   "metadata": {
    "collapsed": true
   },
   "outputs": [],
   "source": [
    "RND_SEED =42"
   ]
  },
  {
   "cell_type": "code",
   "execution_count": 78,
   "metadata": {
    "collapsed": true
   },
   "outputs": [],
   "source": [
    "df=df.sample(frac=0.15,random_state=RND_SEED)\n",
    "df=df.reset_index()\n",
    "del df['index']"
   ]
  },
  {
   "cell_type": "code",
   "execution_count": 79,
   "metadata": {
    "collapsed": true
   },
   "outputs": [],
   "source": [
    "df.index.name='index'\n",
    "x=np.array(df.index)\n",
    "y=np.array(df['label'])\n",
    "x=x.reshape(-1,1)"
   ]
  },
  {
   "cell_type": "code",
   "execution_count": 80,
   "metadata": {},
   "outputs": [
    {
     "data": {
      "text/plain": [
       "(1710L, 1L)"
      ]
     },
     "execution_count": 80,
     "metadata": {},
     "output_type": "execute_result"
    }
   ],
   "source": [
    "x.shape"
   ]
  },
  {
   "cell_type": "code",
   "execution_count": 81,
   "metadata": {
    "collapsed": true
   },
   "outputs": [],
   "source": [
    "X_train, X_test, y_train, y_test = train_test_split(\n",
    "...     x, y, test_size=0.4, random_state=RND_SEED)"
   ]
  },
  {
   "cell_type": "markdown",
   "metadata": {},
   "source": [
    "## Расчет ядра (3 балла)\n",
    "\n",
    "Некоторые указания по составлению пользовательского ядра можно найти [здесь](http://stackoverflow.com/questions/26962159/how-to-use-a-custom-svm-kernel).\n",
    "\n",
    "Если в двух словах:<br/>\n",
    "Функция, реазлизующая расчет ядра должна принимать две матрицы $U$ и $V$ с признаковым описанием объектов (во време обучения они обе относятся к обучающей выборке, а во время применения - одна матрица относится к обучающей выборке, а другая к контрольной).\n",
    "\n",
    "В результате, функция должна возвращать матрицу ядра $G_{ij} = K(U_i, V_j)$.\n",
    "\n",
    "Таким образом, в этом задании вам надо:\n",
    "1. Написать функцию *string_kernel(U, V)*, расчитывающее матрицу ядра $G_{ij}$\n",
    "2. Визуализировать матрицу только для обучающей выборки (функция plt.imshow()).\n",
    "\n",
    "**ВАЖНО**<br/>\n",
    "На лекции мы рассмотрели, что ядро должно обладать определенными свойствами, поэтому не получится рассчитать $G_{ij}$ как расстояние Левинштейна между словами $\\text{word}_i$ и $\\text{word}_j$.<br/>\n",
    "Вместо этого используйте какое-нибудь готовое ядро, зависящее от расстояние между объектами."
   ]
  },
  {
   "cell_type": "code",
   "execution_count": 82,
   "metadata": {
    "collapsed": true
   },
   "outputs": [],
   "source": [
    "dar=np.array(df)"
   ]
  },
  {
   "cell_type": "code",
   "execution_count": 83,
   "metadata": {
    "collapsed": true
   },
   "outputs": [],
   "source": [
    "def distance(a, b):\n",
    "    \"Calculates the Levenshtein distance between a and b.\"\n",
    "    n, m = len(a), len(b)\n",
    "    if n > m:\n",
    "        # Make sure n <= m, to use O(min(n,m)) space\n",
    "        a, b = b, a\n",
    "        n, m = m, n\n",
    "\n",
    "    current_row = range(n+1) # Keep current and previous row, not entire matrix\n",
    "    for i in range(1, m+1):\n",
    "        previous_row, current_row = current_row, [i]+[0]*n\n",
    "        for j in range(1,n+1):\n",
    "            add, delete, change = previous_row[j]+1, current_row[j-1]+1, previous_row[j-1]\n",
    "            if a[j-1] != b[i-1]:\n",
    "                change += 1\n",
    "            current_row[j] = min(add, delete, change)\n",
    "\n",
    "    return current_row[n]"
   ]
  },
  {
   "cell_type": "code",
   "execution_count": 84,
   "metadata": {
    "collapsed": true
   },
   "outputs": [],
   "source": [
    "from math import exp"
   ]
  },
  {
   "cell_type": "code",
   "execution_count": 85,
   "metadata": {
    "collapsed": true
   },
   "outputs": [],
   "source": [
    "def string_kernel(U, V):\n",
    "        res=np.empty(shape=[U.shape[0],V.shape[0]])\n",
    "        for i in xrange(U.shape[0]):\n",
    "            for j in xrange(V.shape[0]):\n",
    "                res[i][j]=exp(-(1/U.shape[1])*(distance((dar[U[i][0]])[0][0],(dar[V[j][0]])[0][0])^2))\n",
    "        return res\n",
    "                            \n",
    "G = string_kernel(X_train, X_train)"
   ]
  },
  {
   "cell_type": "code",
   "execution_count": 86,
   "metadata": {},
   "outputs": [
    {
     "data": {
      "text/plain": [
       "<matplotlib.image.AxesImage at 0xea65080>"
      ]
     },
     "execution_count": 86,
     "metadata": {},
     "output_type": "execute_result"
    },
    {
     "data": {
      "image/png": "[encoded data removed]",
      "text/plain": [
       "<matplotlib.figure.Figure at 0xc2da940>"
      ]
     },
     "metadata": {},
     "output_type": "display_data"
    }
   ],
   "source": [
    "plt.imshow(G)"
   ]
  },
  {
   "cell_type": "markdown",
   "metadata": {},
   "source": [
    "## Оценка качества (1 балл)\n",
    "\n",
    "Обучите метод опорных векторов с различными значениями параметра штрафа $C$.<br/>\n",
    "Для каждого значения выведите accuracy на обучащюей и контрольной выборке.\n",
    "\n",
    "Постарайтесь достичь качества в 70% на тестовой выборке"
   ]
  },
  {
   "cell_type": "code",
   "execution_count": 48,
   "metadata": {
    "collapsed": true
   },
   "outputs": [],
   "source": [
    "from sklearn.metrics import accuracy_score"
   ]
  },
  {
   "cell_type": "code",
   "execution_count": 49,
   "metadata": {
    "collapsed": true
   },
   "outputs": [],
   "source": [
    "from sklearn.preprocessing import binarize"
   ]
  },
  {
   "cell_type": "code",
   "execution_count": 87,
   "metadata": {
    "collapsed": true
   },
   "outputs": [],
   "source": [
    "list_of_cs=(0.1,0.5,1,2,4,8,16)"
   ]
  },
  {
   "cell_type": "code",
   "execution_count": 88,
   "metadata": {},
   "outputs": [
    {
     "name": "stderr",
     "output_type": "stream",
     "text": [
      "C:\\Jabarda\\Anaconda2\\lib\\site-packages\\ipykernel\\__main__.py:5: VisibleDeprecationWarning: using a non-integer number instead of an integer will result in an error in the future\n"
     ]
    },
    {
     "name": "stdout",
     "output_type": "stream",
     "text": [
      "0.1 0.690058479532 0.687134502924\n",
      "0.5 0.721247563353 0.711988304094\n",
      "1 0.7261208577 0.714912280702\n",
      "2 0.727095516569 0.713450292398\n",
      "4 0.727095516569 0.713450292398\n",
      "8 0.727095516569 0.713450292398\n",
      "16 0.727095516569 0.713450292398\n"
     ]
    }
   ],
   "source": [
    "for C in list_of_cs:\n",
    "    model=SVR(C=C,kernel=string_kernel)\n",
    "    model.fit(X_train,y_train)\n",
    "    test=model.predict(X_train)\n",
    "    prediction=model.predict(X_test)\n",
    "    p_bin=binarize(X=prediction.reshape(-1,1),threshold=0.5)\n",
    "    t_bin=binarize(X=test.reshape(-1,1),threshold=0.5)\n",
    "    print C, accuracy_score(t_bin,y_train), accuracy_score(p_bin,y_test)"
   ]
  }
 ],
 "metadata": {
  "anaconda-cloud": {},
  "kernelspec": {
   "display_name": "Python 2",
   "language": "python",
   "name": "python2"
  },
  "language_info": {
   "codemirror_mode": {
    "name": "ipython",
    "version": 2
   },
   "file_extension": ".py",
   "mimetype": "text/x-python",
   "name": "python",
   "nbconvert_exporter": "python",
   "pygments_lexer": "ipython2",
   "version": "2.7.13"
  },
  "nav_menu": {},
  "toc": {
   "navigate_menu": true,
   "number_sections": false,
   "sideBar": true,
   "threshold": 6,
   "toc_cell": false,
   "toc_section_display": "block",
   "toc_window_display": true
  }
 },
 "nbformat": 4,
 "nbformat_minor": 1
}
