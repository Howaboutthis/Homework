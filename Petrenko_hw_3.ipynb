{
 "cells": [
  {
   "cell_type": "markdown",
   "metadata": {},
   "source": [
    "<center><img src=\"images/header.png\"></center>\n",
    "\n",
    "<h1><center>Алгоритмы интеллектуальной обработки больших объемов данных</center></h1>\n",
    "<hr>\n",
    "<h2><center>Деревья решений, случайные леса (практика)</center></h2>"
   ]
  },
  {
   "cell_type": "markdown",
   "metadata": {},
   "source": [
    "**Срок сдачи:** 3 апреля 2017, 06:00 <br> \n",
    "**Штраф за опоздание:** -2 балла после 06:00 3 апреля, -4 балла после 06:00 10 апреля, -6 баллов после 06:00 17 апреля\n",
    "\n",
    "При отправлении ДЗ указывайте фамилию в названии файла<br>\n",
    "\n",
    "Не забудте создать задание в Slack через /todo.\n",
    "\n",
    "Используйте данный Ipython Notebook при оформлении домашнего задания."
   ]
  },
  {
   "cell_type": "code",
   "execution_count": 1,
   "metadata": {
    "collapsed": false
   },
   "outputs": [],
   "source": [
    "import pandas as pd\n",
    "import numpy as np\n",
    "import matplotlib.pyplot as plt\n",
    "\n",
    "%matplotlib inline\n",
    "\n",
    "plt.style.use('ggplot')\n",
    "plt.rcParams['figure.figsize'] = (12,8)\n",
    "\n",
    "# Для кириллицы на графиках\n",
    "font = {'family': 'Verdana',\n",
    "        'weight': 'normal'}\n",
    "plt.rc('font', **font)"
   ]
  },
  {
   "cell_type": "markdown",
   "metadata": {},
   "source": [
    "# Практика"
   ]
  },
  {
   "cell_type": "markdown",
   "metadata": {},
   "source": [
    "### Качество вина (10 баллов)"
   ]
  },
  {
   "cell_type": "markdown",
   "metadata": {},
   "source": [
    "Давайте все-таки разберемся с [вином](https://archive.ics.uci.edu/ml/machine-learning-databases/wine-quality/winequality-red.csv)!\n",
    "\n",
    "\n",
    "#### Задание (1 балл)\n",
    "* Загрузите данные, выполните преобразование целевой переменной: \n",
    "    * quality > 5 -> 1\n",
    "    * quality <= 5 -> 0\n",
    "* Разделите выборку на обучающую и контрольную в пропорции 80/20"
   ]
  },
  {
   "cell_type": "code",
   "execution_count": 2,
   "metadata": {
    "collapsed": false
   },
   "outputs": [],
   "source": [
    "df_wine = pd.read_csv('https://archive.ics.uci.edu/ml/machine-learning-databases/wine-quality/winequality-red.csv', sep=';')"
   ]
  },
  {
   "cell_type": "code",
   "execution_count": 3,
   "metadata": {
    "collapsed": false
   },
   "outputs": [],
   "source": [
    "def convertion(X):\n",
    "    if (X<=5):\n",
    "        return 0\n",
    "    else:\n",
    "        return 1"
   ]
  },
  {
   "cell_type": "code",
   "execution_count": 4,
   "metadata": {
    "collapsed": false
   },
   "outputs": [],
   "source": [
    "conf=np.vectorize(convertion)\n",
    "df_wine.quality=conf(df_wine.quality)"
   ]
  },
  {
   "cell_type": "code",
   "execution_count": 5,
   "metadata": {
    "collapsed": false
   },
   "outputs": [],
   "source": [
    "df_wine.sample(frac=1)\n",
    "trainsize=(df_wine.shape[0]//5)*4\n",
    "testsize=df_wine.shape[0]-trainsize\n",
    "training = df_wine[:trainsize]\n",
    "test=df_wine[testsize:]\n"
   ]
  },
  {
   "cell_type": "markdown",
   "metadata": {},
   "source": [
    "#### Задание (2 балла)\n",
    "\n",
    "Сфокусируемся на одном гиперпараметре деревьев решений - максимальной глубине.\n",
    "\n",
    "Подберите наилучшую глубину `d` дерева с помошью \n",
    "* Усредненной оценки качества roc-auc на кросс-валидации при различных `d`\n",
    "* Валидационных кривых"
   ]
  },
  {
   "cell_type": "code",
   "execution_count": 8,
   "metadata": {
    "collapsed": false
   },
   "outputs": [
    {
     "name": "stdout",
     "output_type": "stream",
     "text": [
      "\n"
     ]
    }
   ],
   "source": [
    "from sklearn.tree import DecisionTreeClassifier\n",
    "\n",
    "try:\n",
    "    from sklearn.model_selection import cross_val_score\n",
    "except ImportError:\n",
    "    from sklearn.cross_validation import cross_val_score\n",
    "\n",
    "try:\n",
    "    from sklearn.model_selection import validation_curve\n",
    "except ImportError:\n",
    "    from sklearn.learning_curve import validation_curve"
   ]
  },
  {
   "cell_type": "code",
   "execution_count": 6,
   "metadata": {
    "collapsed": true
   },
   "outputs": [],
   "source": [
    "Y_train = list(training.quality.values)\n",
    "X_train = training.drop([\"quality\"], axis = 1)"
   ]
  },
  {
   "cell_type": "code",
   "execution_count": 9,
   "metadata": {
    "collapsed": false
   },
   "outputs": [
    {
     "name": "stdout",
     "output_type": "stream",
     "text": [
      "Для 1 результат 0.695254946757\n",
      "Для 2 результат 0.72663849589\n",
      "Для 3 результат 0.73082707463\n",
      "Для 4 результат 0.712547173596\n",
      "Для 5 результат 0.697609035137\n",
      "Для 6 результат 0.660247375431\n",
      "Для 7 результат 0.63868377294\n",
      "Для 8 результат 0.616337328193\n",
      "Для 9 результат 0.599641704561\n",
      "Для 10 результат 0.5924890609\n"
     ]
    }
   ],
   "source": [
    "for d in xrange(10):\n",
    "    print \"Для\",d+1,\"результат\",cross_val_score(DecisionTreeClassifier(max_depth=d+1),X_train,Y_train,scoring=\"roc_auc\").mean()"
   ]
  },
  {
   "cell_type": "raw",
   "metadata": {},
   "source": []
  },
  {
   "cell_type": "code",
   "execution_count": 10,
   "metadata": {
    "collapsed": false
   },
   "outputs": [],
   "source": [
    "train_scores,test_scores=validation_curve(DecisionTreeClassifier(),X_train,Y_train,param_name=\"max_depth\",param_range=range(1,10),scoring=\"roc_auc\")"
   ]
  },
  {
   "cell_type": "code",
   "execution_count": 12,
   "metadata": {
    "collapsed": false
   },
   "outputs": [],
   "source": [
    "train_scores=np.mean(train_scores,axis=1)\n",
    "test_scores=np.mean(test_scores,axis=1)"
   ]
  },
  {
   "cell_type": "code",
   "execution_count": 12,
   "metadata": {
    "collapsed": false
   },
   "outputs": [
    {
     "data": {
      "image/png": "[encoded data removed]",
      "text/plain": [
       "<matplotlib.figure.Figure at 0xc57aac8>"
      ]
     },
     "metadata": {},
     "output_type": "display_data"
    }
   ],
   "source": [
    "plt.figure()\n",
    "\n",
    "plt.plot(range(1,10),train_scores,c=\"green\")\n",
    "plt.plot(range(1,10),test_scores,c=\"red\")\n",
    "plt.show()"
   ]
  },
  {
   "cell_type": "markdown",
   "metadata": {},
   "source": [
    "#### Задание (1 балл)\n",
    "\n",
    "Отсортируйте признаки по важности. Вектор с важностью признаков можно получить с помощью `model.feature_importances_`"
   ]
  },
  {
   "cell_type": "code",
   "execution_count": 90,
   "metadata": {
    "collapsed": false
   },
   "outputs": [],
   "source": [
    "random_state = np.random.RandomState(0)\n",
    "model=DecisionTreeClassifier(max_depth=3,random_state=random_state)\n",
    "model.fit(X_train,Y_train)\n",
    "importances=model.feature_importances_"
   ]
  },
  {
   "cell_type": "code",
   "execution_count": 63,
   "metadata": {
    "collapsed": false
   },
   "outputs": [],
   "source": [
    "importances=np.concatenate((importances,[0]))"
   ]
  },
  {
   "cell_type": "code",
   "execution_count": 17,
   "metadata": {
    "collapsed": false
   },
   "outputs": [],
   "source": [
    "imp=pd.DataFrame(importances.reshape(1,-1),columns=df_wine.columns)"
   ]
  },
  {
   "cell_type": "code",
   "execution_count": 64,
   "metadata": {
    "collapsed": false
   },
   "outputs": [],
   "source": [
    "newindex=[\"imp\"]\n",
    "newindex.extend(range(1599))"
   ]
  },
  {
   "cell_type": "code",
   "execution_count": 81,
   "metadata": {
    "collapsed": false
   },
   "outputs": [
    {
     "data": {
      "text/html": [
       "<div>\n",
       "<table border=\"1\" class=\"dataframe\">\n",
       "  <thead>\n",
       "    <tr style=\"text-align: right;\">\n",
       "      <th></th>\n",
       "      <th>alcohol</th>\n",
       "      <th>sulphates</th>\n",
       "      <th>total sulfur dioxide</th>\n",
       "      <th>volatile acidity</th>\n",
       "      <th>pH</th>\n",
       "      <th>fixed acidity</th>\n",
       "      <th>citric acid</th>\n",
       "      <th>residual sugar</th>\n",
       "      <th>chlorides</th>\n",
       "      <th>free sulfur dioxide</th>\n",
       "      <th>density</th>\n",
       "      <th>quality</th>\n",
       "    </tr>\n",
       "  </thead>\n",
       "  <tbody>\n",
       "    <tr>\n",
       "      <th>imp</th>\n",
       "      <td>0.69624</td>\n",
       "      <td>0.170287</td>\n",
       "      <td>0.076298</td>\n",
       "      <td>0.035946</td>\n",
       "      <td>0.021229</td>\n",
       "      <td>0.0</td>\n",
       "      <td>0.00</td>\n",
       "      <td>0.0</td>\n",
       "      <td>0.000</td>\n",
       "      <td>0.0</td>\n",
       "      <td>0.00000</td>\n",
       "      <td>0.0</td>\n",
       "    </tr>\n",
       "    <tr>\n",
       "      <th>0</th>\n",
       "      <td>9.40000</td>\n",
       "      <td>0.560000</td>\n",
       "      <td>34.000000</td>\n",
       "      <td>0.700000</td>\n",
       "      <td>3.510000</td>\n",
       "      <td>7.4</td>\n",
       "      <td>0.00</td>\n",
       "      <td>1.9</td>\n",
       "      <td>0.076</td>\n",
       "      <td>11.0</td>\n",
       "      <td>0.99780</td>\n",
       "      <td>0.0</td>\n",
       "    </tr>\n",
       "    <tr>\n",
       "      <th>1</th>\n",
       "      <td>9.80000</td>\n",
       "      <td>0.680000</td>\n",
       "      <td>67.000000</td>\n",
       "      <td>0.880000</td>\n",
       "      <td>3.200000</td>\n",
       "      <td>7.8</td>\n",
       "      <td>0.00</td>\n",
       "      <td>2.6</td>\n",
       "      <td>0.098</td>\n",
       "      <td>25.0</td>\n",
       "      <td>0.99680</td>\n",
       "      <td>0.0</td>\n",
       "    </tr>\n",
       "    <tr>\n",
       "      <th>2</th>\n",
       "      <td>9.80000</td>\n",
       "      <td>0.650000</td>\n",
       "      <td>54.000000</td>\n",
       "      <td>0.760000</td>\n",
       "      <td>3.260000</td>\n",
       "      <td>7.8</td>\n",
       "      <td>0.04</td>\n",
       "      <td>2.3</td>\n",
       "      <td>0.092</td>\n",
       "      <td>15.0</td>\n",
       "      <td>0.99700</td>\n",
       "      <td>0.0</td>\n",
       "    </tr>\n",
       "    <tr>\n",
       "      <th>3</th>\n",
       "      <td>9.80000</td>\n",
       "      <td>0.580000</td>\n",
       "      <td>60.000000</td>\n",
       "      <td>0.280000</td>\n",
       "      <td>3.160000</td>\n",
       "      <td>11.2</td>\n",
       "      <td>0.56</td>\n",
       "      <td>1.9</td>\n",
       "      <td>0.075</td>\n",
       "      <td>17.0</td>\n",
       "      <td>0.99800</td>\n",
       "      <td>1.0</td>\n",
       "    </tr>\n",
       "    <tr>\n",
       "      <th>4</th>\n",
       "      <td>9.40000</td>\n",
       "      <td>0.560000</td>\n",
       "      <td>34.000000</td>\n",
       "      <td>0.700000</td>\n",
       "      <td>3.510000</td>\n",
       "      <td>7.4</td>\n",
       "      <td>0.00</td>\n",
       "      <td>1.9</td>\n",
       "      <td>0.076</td>\n",
       "      <td>11.0</td>\n",
       "      <td>0.99780</td>\n",
       "      <td>0.0</td>\n",
       "    </tr>\n",
       "    <tr>\n",
       "      <th>5</th>\n",
       "      <td>9.40000</td>\n",
       "      <td>0.560000</td>\n",
       "      <td>40.000000</td>\n",
       "      <td>0.660000</td>\n",
       "      <td>3.510000</td>\n",
       "      <td>7.4</td>\n",
       "      <td>0.00</td>\n",
       "      <td>1.8</td>\n",
       "      <td>0.075</td>\n",
       "      <td>13.0</td>\n",
       "      <td>0.99780</td>\n",
       "      <td>0.0</td>\n",
       "    </tr>\n",
       "    <tr>\n",
       "      <th>6</th>\n",
       "      <td>9.40000</td>\n",
       "      <td>0.460000</td>\n",
       "      <td>59.000000</td>\n",
       "      <td>0.600000</td>\n",
       "      <td>3.300000</td>\n",
       "      <td>7.9</td>\n",
       "      <td>0.06</td>\n",
       "      <td>1.6</td>\n",
       "      <td>0.069</td>\n",
       "      <td>15.0</td>\n",
       "      <td>0.99640</td>\n",
       "      <td>0.0</td>\n",
       "    </tr>\n",
       "    <tr>\n",
       "      <th>7</th>\n",
       "      <td>10.00000</td>\n",
       "      <td>0.470000</td>\n",
       "      <td>21.000000</td>\n",
       "      <td>0.650000</td>\n",
       "      <td>3.390000</td>\n",
       "      <td>7.3</td>\n",
       "      <td>0.00</td>\n",
       "      <td>1.2</td>\n",
       "      <td>0.065</td>\n",
       "      <td>15.0</td>\n",
       "      <td>0.99460</td>\n",
       "      <td>1.0</td>\n",
       "    </tr>\n",
       "    <tr>\n",
       "      <th>8</th>\n",
       "      <td>9.50000</td>\n",
       "      <td>0.570000</td>\n",
       "      <td>18.000000</td>\n",
       "      <td>0.580000</td>\n",
       "      <td>3.360000</td>\n",
       "      <td>7.8</td>\n",
       "      <td>0.02</td>\n",
       "      <td>2.0</td>\n",
       "      <td>0.073</td>\n",
       "      <td>9.0</td>\n",
       "      <td>0.99680</td>\n",
       "      <td>1.0</td>\n",
       "    </tr>\n",
       "    <tr>\n",
       "      <th>9</th>\n",
       "      <td>10.50000</td>\n",
       "      <td>0.800000</td>\n",
       "      <td>102.000000</td>\n",
       "      <td>0.500000</td>\n",
       "      <td>3.350000</td>\n",
       "      <td>7.5</td>\n",
       "      <td>0.36</td>\n",
       "      <td>6.1</td>\n",
       "      <td>0.071</td>\n",
       "      <td>17.0</td>\n",
       "      <td>0.99780</td>\n",
       "      <td>0.0</td>\n",
       "    </tr>\n",
       "    <tr>\n",
       "      <th>10</th>\n",
       "      <td>9.20000</td>\n",
       "      <td>0.540000</td>\n",
       "      <td>65.000000</td>\n",
       "      <td>0.580000</td>\n",
       "      <td>3.280000</td>\n",
       "      <td>6.7</td>\n",
       "      <td>0.08</td>\n",
       "      <td>1.8</td>\n",
       "      <td>0.097</td>\n",
       "      <td>15.0</td>\n",
       "      <td>0.99590</td>\n",
       "      <td>0.0</td>\n",
       "    </tr>\n",
       "    <tr>\n",
       "      <th>11</th>\n",
       "      <td>10.50000</td>\n",
       "      <td>0.800000</td>\n",
       "      <td>102.000000</td>\n",
       "      <td>0.500000</td>\n",
       "      <td>3.350000</td>\n",
       "      <td>7.5</td>\n",
       "      <td>0.36</td>\n",
       "      <td>6.1</td>\n",
       "      <td>0.071</td>\n",
       "      <td>17.0</td>\n",
       "      <td>0.99780</td>\n",
       "      <td>0.0</td>\n",
       "    </tr>\n",
       "    <tr>\n",
       "      <th>12</th>\n",
       "      <td>9.90000</td>\n",
       "      <td>0.520000</td>\n",
       "      <td>59.000000</td>\n",
       "      <td>0.615000</td>\n",
       "      <td>3.580000</td>\n",
       "      <td>5.6</td>\n",
       "      <td>0.00</td>\n",
       "      <td>1.6</td>\n",
       "      <td>0.089</td>\n",
       "      <td>16.0</td>\n",
       "      <td>0.99430</td>\n",
       "      <td>0.0</td>\n",
       "    </tr>\n",
       "    <tr>\n",
       "      <th>13</th>\n",
       "      <td>9.10000</td>\n",
       "      <td>1.560000</td>\n",
       "      <td>29.000000</td>\n",
       "      <td>0.610000</td>\n",
       "      <td>3.260000</td>\n",
       "      <td>7.8</td>\n",
       "      <td>0.29</td>\n",
       "      <td>1.6</td>\n",
       "      <td>0.114</td>\n",
       "      <td>9.0</td>\n",
       "      <td>0.99740</td>\n",
       "      <td>0.0</td>\n",
       "    </tr>\n",
       "    <tr>\n",
       "      <th>14</th>\n",
       "      <td>9.20000</td>\n",
       "      <td>0.880000</td>\n",
       "      <td>145.000000</td>\n",
       "      <td>0.620000</td>\n",
       "      <td>3.160000</td>\n",
       "      <td>8.9</td>\n",
       "      <td>0.18</td>\n",
       "      <td>3.8</td>\n",
       "      <td>0.176</td>\n",
       "      <td>52.0</td>\n",
       "      <td>0.99860</td>\n",
       "      <td>0.0</td>\n",
       "    </tr>\n",
       "    <tr>\n",
       "      <th>15</th>\n",
       "      <td>9.20000</td>\n",
       "      <td>0.930000</td>\n",
       "      <td>148.000000</td>\n",
       "      <td>0.620000</td>\n",
       "      <td>3.170000</td>\n",
       "      <td>8.9</td>\n",
       "      <td>0.19</td>\n",
       "      <td>3.9</td>\n",
       "      <td>0.170</td>\n",
       "      <td>51.0</td>\n",
       "      <td>0.99860</td>\n",
       "      <td>0.0</td>\n",
       "    </tr>\n",
       "    <tr>\n",
       "      <th>16</th>\n",
       "      <td>10.50000</td>\n",
       "      <td>0.750000</td>\n",
       "      <td>103.000000</td>\n",
       "      <td>0.280000</td>\n",
       "      <td>3.300000</td>\n",
       "      <td>8.5</td>\n",
       "      <td>0.56</td>\n",
       "      <td>1.8</td>\n",
       "      <td>0.092</td>\n",
       "      <td>35.0</td>\n",
       "      <td>0.99690</td>\n",
       "      <td>1.0</td>\n",
       "    </tr>\n",
       "    <tr>\n",
       "      <th>17</th>\n",
       "      <td>9.30000</td>\n",
       "      <td>1.280000</td>\n",
       "      <td>56.000000</td>\n",
       "      <td>0.560000</td>\n",
       "      <td>3.110000</td>\n",
       "      <td>8.1</td>\n",
       "      <td>0.28</td>\n",
       "      <td>1.7</td>\n",
       "      <td>0.368</td>\n",
       "      <td>16.0</td>\n",
       "      <td>0.99680</td>\n",
       "      <td>0.0</td>\n",
       "    </tr>\n",
       "    <tr>\n",
       "      <th>18</th>\n",
       "      <td>9.00000</td>\n",
       "      <td>0.500000</td>\n",
       "      <td>29.000000</td>\n",
       "      <td>0.590000</td>\n",
       "      <td>3.380000</td>\n",
       "      <td>7.4</td>\n",
       "      <td>0.08</td>\n",
       "      <td>4.4</td>\n",
       "      <td>0.086</td>\n",
       "      <td>6.0</td>\n",
       "      <td>0.99740</td>\n",
       "      <td>0.0</td>\n",
       "    </tr>\n",
       "    <tr>\n",
       "      <th>19</th>\n",
       "      <td>9.20000</td>\n",
       "      <td>1.080000</td>\n",
       "      <td>56.000000</td>\n",
       "      <td>0.320000</td>\n",
       "      <td>3.040000</td>\n",
       "      <td>7.9</td>\n",
       "      <td>0.51</td>\n",
       "      <td>1.8</td>\n",
       "      <td>0.341</td>\n",
       "      <td>17.0</td>\n",
       "      <td>0.99690</td>\n",
       "      <td>1.0</td>\n",
       "    </tr>\n",
       "    <tr>\n",
       "      <th>20</th>\n",
       "      <td>9.40000</td>\n",
       "      <td>0.530000</td>\n",
       "      <td>60.000000</td>\n",
       "      <td>0.220000</td>\n",
       "      <td>3.390000</td>\n",
       "      <td>8.9</td>\n",
       "      <td>0.48</td>\n",
       "      <td>1.8</td>\n",
       "      <td>0.077</td>\n",
       "      <td>29.0</td>\n",
       "      <td>0.99680</td>\n",
       "      <td>1.0</td>\n",
       "    </tr>\n",
       "    <tr>\n",
       "      <th>21</th>\n",
       "      <td>9.70000</td>\n",
       "      <td>0.650000</td>\n",
       "      <td>71.000000</td>\n",
       "      <td>0.390000</td>\n",
       "      <td>3.520000</td>\n",
       "      <td>7.6</td>\n",
       "      <td>0.31</td>\n",
       "      <td>2.3</td>\n",
       "      <td>0.082</td>\n",
       "      <td>23.0</td>\n",
       "      <td>0.99820</td>\n",
       "      <td>0.0</td>\n",
       "    </tr>\n",
       "    <tr>\n",
       "      <th>22</th>\n",
       "      <td>9.50000</td>\n",
       "      <td>0.910000</td>\n",
       "      <td>37.000000</td>\n",
       "      <td>0.430000</td>\n",
       "      <td>3.170000</td>\n",
       "      <td>7.9</td>\n",
       "      <td>0.21</td>\n",
       "      <td>1.6</td>\n",
       "      <td>0.106</td>\n",
       "      <td>10.0</td>\n",
       "      <td>0.99660</td>\n",
       "      <td>0.0</td>\n",
       "    </tr>\n",
       "    <tr>\n",
       "      <th>23</th>\n",
       "      <td>9.40000</td>\n",
       "      <td>0.530000</td>\n",
       "      <td>67.000000</td>\n",
       "      <td>0.490000</td>\n",
       "      <td>3.170000</td>\n",
       "      <td>8.5</td>\n",
       "      <td>0.11</td>\n",
       "      <td>2.3</td>\n",
       "      <td>0.084</td>\n",
       "      <td>9.0</td>\n",
       "      <td>0.99680</td>\n",
       "      <td>0.0</td>\n",
       "    </tr>\n",
       "    <tr>\n",
       "      <th>24</th>\n",
       "      <td>9.70000</td>\n",
       "      <td>0.630000</td>\n",
       "      <td>40.000000</td>\n",
       "      <td>0.400000</td>\n",
       "      <td>3.430000</td>\n",
       "      <td>6.9</td>\n",
       "      <td>0.14</td>\n",
       "      <td>2.4</td>\n",
       "      <td>0.085</td>\n",
       "      <td>21.0</td>\n",
       "      <td>0.99680</td>\n",
       "      <td>1.0</td>\n",
       "    </tr>\n",
       "    <tr>\n",
       "      <th>25</th>\n",
       "      <td>9.30000</td>\n",
       "      <td>0.560000</td>\n",
       "      <td>23.000000</td>\n",
       "      <td>0.390000</td>\n",
       "      <td>3.340000</td>\n",
       "      <td>6.3</td>\n",
       "      <td>0.16</td>\n",
       "      <td>1.4</td>\n",
       "      <td>0.080</td>\n",
       "      <td>11.0</td>\n",
       "      <td>0.99550</td>\n",
       "      <td>0.0</td>\n",
       "    </tr>\n",
       "    <tr>\n",
       "      <th>26</th>\n",
       "      <td>9.50000</td>\n",
       "      <td>0.590000</td>\n",
       "      <td>11.000000</td>\n",
       "      <td>0.410000</td>\n",
       "      <td>3.280000</td>\n",
       "      <td>7.6</td>\n",
       "      <td>0.24</td>\n",
       "      <td>1.8</td>\n",
       "      <td>0.080</td>\n",
       "      <td>4.0</td>\n",
       "      <td>0.99620</td>\n",
       "      <td>0.0</td>\n",
       "    </tr>\n",
       "    <tr>\n",
       "      <th>27</th>\n",
       "      <td>9.50000</td>\n",
       "      <td>0.910000</td>\n",
       "      <td>37.000000</td>\n",
       "      <td>0.430000</td>\n",
       "      <td>3.170000</td>\n",
       "      <td>7.9</td>\n",
       "      <td>0.21</td>\n",
       "      <td>1.6</td>\n",
       "      <td>0.106</td>\n",
       "      <td>10.0</td>\n",
       "      <td>0.99660</td>\n",
       "      <td>0.0</td>\n",
       "    </tr>\n",
       "    <tr>\n",
       "      <th>28</th>\n",
       "      <td>9.40000</td>\n",
       "      <td>0.550000</td>\n",
       "      <td>35.000000</td>\n",
       "      <td>0.710000</td>\n",
       "      <td>3.470000</td>\n",
       "      <td>7.1</td>\n",
       "      <td>0.00</td>\n",
       "      <td>1.9</td>\n",
       "      <td>0.080</td>\n",
       "      <td>14.0</td>\n",
       "      <td>0.99720</td>\n",
       "      <td>0.0</td>\n",
       "    </tr>\n",
       "    <tr>\n",
       "      <th>...</th>\n",
       "      <td>...</td>\n",
       "      <td>...</td>\n",
       "      <td>...</td>\n",
       "      <td>...</td>\n",
       "      <td>...</td>\n",
       "      <td>...</td>\n",
       "      <td>...</td>\n",
       "      <td>...</td>\n",
       "      <td>...</td>\n",
       "      <td>...</td>\n",
       "      <td>...</td>\n",
       "      <td>...</td>\n",
       "    </tr>\n",
       "    <tr>\n",
       "      <th>1569</th>\n",
       "      <td>11.50000</td>\n",
       "      <td>0.570000</td>\n",
       "      <td>34.000000</td>\n",
       "      <td>0.510000</td>\n",
       "      <td>3.480000</td>\n",
       "      <td>6.2</td>\n",
       "      <td>0.14</td>\n",
       "      <td>1.9</td>\n",
       "      <td>0.056</td>\n",
       "      <td>15.0</td>\n",
       "      <td>0.99396</td>\n",
       "      <td>1.0</td>\n",
       "    </tr>\n",
       "    <tr>\n",
       "      <th>1570</th>\n",
       "      <td>12.40000</td>\n",
       "      <td>0.930000</td>\n",
       "      <td>35.000000</td>\n",
       "      <td>0.360000</td>\n",
       "      <td>3.370000</td>\n",
       "      <td>6.4</td>\n",
       "      <td>0.53</td>\n",
       "      <td>2.2</td>\n",
       "      <td>0.230</td>\n",
       "      <td>19.0</td>\n",
       "      <td>0.99340</td>\n",
       "      <td>1.0</td>\n",
       "    </tr>\n",
       "    <tr>\n",
       "      <th>1571</th>\n",
       "      <td>11.10000</td>\n",
       "      <td>0.650000</td>\n",
       "      <td>25.000000</td>\n",
       "      <td>0.380000</td>\n",
       "      <td>3.440000</td>\n",
       "      <td>6.4</td>\n",
       "      <td>0.14</td>\n",
       "      <td>2.2</td>\n",
       "      <td>0.038</td>\n",
       "      <td>15.0</td>\n",
       "      <td>0.99514</td>\n",
       "      <td>1.0</td>\n",
       "    </tr>\n",
       "    <tr>\n",
       "      <th>1572</th>\n",
       "      <td>9.50000</td>\n",
       "      <td>0.510000</td>\n",
       "      <td>104.000000</td>\n",
       "      <td>0.690000</td>\n",
       "      <td>3.330000</td>\n",
       "      <td>7.3</td>\n",
       "      <td>0.32</td>\n",
       "      <td>2.2</td>\n",
       "      <td>0.069</td>\n",
       "      <td>35.0</td>\n",
       "      <td>0.99632</td>\n",
       "      <td>0.0</td>\n",
       "    </tr>\n",
       "    <tr>\n",
       "      <th>1573</th>\n",
       "      <td>12.50000</td>\n",
       "      <td>0.670000</td>\n",
       "      <td>50.000000</td>\n",
       "      <td>0.580000</td>\n",
       "      <td>3.580000</td>\n",
       "      <td>6.0</td>\n",
       "      <td>0.20</td>\n",
       "      <td>2.4</td>\n",
       "      <td>0.075</td>\n",
       "      <td>15.0</td>\n",
       "      <td>0.99467</td>\n",
       "      <td>1.0</td>\n",
       "    </tr>\n",
       "    <tr>\n",
       "      <th>1574</th>\n",
       "      <td>10.50000</td>\n",
       "      <td>0.480000</td>\n",
       "      <td>92.000000</td>\n",
       "      <td>0.310000</td>\n",
       "      <td>3.390000</td>\n",
       "      <td>5.6</td>\n",
       "      <td>0.78</td>\n",
       "      <td>13.9</td>\n",
       "      <td>0.074</td>\n",
       "      <td>23.0</td>\n",
       "      <td>0.99677</td>\n",
       "      <td>1.0</td>\n",
       "    </tr>\n",
       "    <tr>\n",
       "      <th>1575</th>\n",
       "      <td>11.80000</td>\n",
       "      <td>0.640000</td>\n",
       "      <td>20.000000</td>\n",
       "      <td>0.520000</td>\n",
       "      <td>3.260000</td>\n",
       "      <td>7.5</td>\n",
       "      <td>0.40</td>\n",
       "      <td>2.2</td>\n",
       "      <td>0.060</td>\n",
       "      <td>12.0</td>\n",
       "      <td>0.99474</td>\n",
       "      <td>1.0</td>\n",
       "    </tr>\n",
       "    <tr>\n",
       "      <th>1576</th>\n",
       "      <td>10.80000</td>\n",
       "      <td>0.780000</td>\n",
       "      <td>29.000000</td>\n",
       "      <td>0.300000</td>\n",
       "      <td>3.300000</td>\n",
       "      <td>8.0</td>\n",
       "      <td>0.63</td>\n",
       "      <td>1.6</td>\n",
       "      <td>0.081</td>\n",
       "      <td>16.0</td>\n",
       "      <td>0.99588</td>\n",
       "      <td>1.0</td>\n",
       "    </tr>\n",
       "    <tr>\n",
       "      <th>1577</th>\n",
       "      <td>11.90000</td>\n",
       "      <td>0.600000</td>\n",
       "      <td>27.000000</td>\n",
       "      <td>0.700000</td>\n",
       "      <td>3.540000</td>\n",
       "      <td>6.2</td>\n",
       "      <td>0.15</td>\n",
       "      <td>5.1</td>\n",
       "      <td>0.076</td>\n",
       "      <td>13.0</td>\n",
       "      <td>0.99622</td>\n",
       "      <td>1.0</td>\n",
       "    </tr>\n",
       "    <tr>\n",
       "      <th>1578</th>\n",
       "      <td>11.30000</td>\n",
       "      <td>0.670000</td>\n",
       "      <td>20.000000</td>\n",
       "      <td>0.670000</td>\n",
       "      <td>3.420000</td>\n",
       "      <td>6.8</td>\n",
       "      <td>0.15</td>\n",
       "      <td>1.8</td>\n",
       "      <td>0.118</td>\n",
       "      <td>13.0</td>\n",
       "      <td>0.99540</td>\n",
       "      <td>1.0</td>\n",
       "    </tr>\n",
       "    <tr>\n",
       "      <th>1579</th>\n",
       "      <td>11.30000</td>\n",
       "      <td>0.600000</td>\n",
       "      <td>32.000000</td>\n",
       "      <td>0.560000</td>\n",
       "      <td>3.540000</td>\n",
       "      <td>6.2</td>\n",
       "      <td>0.09</td>\n",
       "      <td>1.7</td>\n",
       "      <td>0.053</td>\n",
       "      <td>24.0</td>\n",
       "      <td>0.99402</td>\n",
       "      <td>0.0</td>\n",
       "    </tr>\n",
       "    <tr>\n",
       "      <th>1580</th>\n",
       "      <td>11.90000</td>\n",
       "      <td>0.600000</td>\n",
       "      <td>26.000000</td>\n",
       "      <td>0.350000</td>\n",
       "      <td>3.360000</td>\n",
       "      <td>7.4</td>\n",
       "      <td>0.33</td>\n",
       "      <td>2.4</td>\n",
       "      <td>0.068</td>\n",
       "      <td>9.0</td>\n",
       "      <td>0.99470</td>\n",
       "      <td>1.0</td>\n",
       "    </tr>\n",
       "    <tr>\n",
       "      <th>1581</th>\n",
       "      <td>11.30000</td>\n",
       "      <td>0.600000</td>\n",
       "      <td>32.000000</td>\n",
       "      <td>0.560000</td>\n",
       "      <td>3.540000</td>\n",
       "      <td>6.2</td>\n",
       "      <td>0.09</td>\n",
       "      <td>1.7</td>\n",
       "      <td>0.053</td>\n",
       "      <td>24.0</td>\n",
       "      <td>0.99402</td>\n",
       "      <td>0.0</td>\n",
       "    </tr>\n",
       "    <tr>\n",
       "      <th>1582</th>\n",
       "      <td>11.90000</td>\n",
       "      <td>0.500000</td>\n",
       "      <td>27.000000</td>\n",
       "      <td>0.715000</td>\n",
       "      <td>3.570000</td>\n",
       "      <td>6.1</td>\n",
       "      <td>0.10</td>\n",
       "      <td>2.6</td>\n",
       "      <td>0.053</td>\n",
       "      <td>13.0</td>\n",
       "      <td>0.99362</td>\n",
       "      <td>0.0</td>\n",
       "    </tr>\n",
       "    <tr>\n",
       "      <th>1583</th>\n",
       "      <td>9.80000</td>\n",
       "      <td>0.620000</td>\n",
       "      <td>98.000000</td>\n",
       "      <td>0.460000</td>\n",
       "      <td>3.330000</td>\n",
       "      <td>6.2</td>\n",
       "      <td>0.29</td>\n",
       "      <td>2.1</td>\n",
       "      <td>0.074</td>\n",
       "      <td>32.0</td>\n",
       "      <td>0.99578</td>\n",
       "      <td>0.0</td>\n",
       "    </tr>\n",
       "    <tr>\n",
       "      <th>1584</th>\n",
       "      <td>11.60000</td>\n",
       "      <td>0.800000</td>\n",
       "      <td>34.000000</td>\n",
       "      <td>0.320000</td>\n",
       "      <td>3.290000</td>\n",
       "      <td>6.7</td>\n",
       "      <td>0.44</td>\n",
       "      <td>2.4</td>\n",
       "      <td>0.061</td>\n",
       "      <td>24.0</td>\n",
       "      <td>0.99484</td>\n",
       "      <td>1.0</td>\n",
       "    </tr>\n",
       "    <tr>\n",
       "      <th>1585</th>\n",
       "      <td>11.50000</td>\n",
       "      <td>0.840000</td>\n",
       "      <td>48.000000</td>\n",
       "      <td>0.390000</td>\n",
       "      <td>3.300000</td>\n",
       "      <td>7.2</td>\n",
       "      <td>0.44</td>\n",
       "      <td>2.6</td>\n",
       "      <td>0.066</td>\n",
       "      <td>22.0</td>\n",
       "      <td>0.99494</td>\n",
       "      <td>1.0</td>\n",
       "    </tr>\n",
       "    <tr>\n",
       "      <th>1586</th>\n",
       "      <td>11.40000</td>\n",
       "      <td>0.850000</td>\n",
       "      <td>60.000000</td>\n",
       "      <td>0.310000</td>\n",
       "      <td>3.340000</td>\n",
       "      <td>7.5</td>\n",
       "      <td>0.41</td>\n",
       "      <td>2.4</td>\n",
       "      <td>0.065</td>\n",
       "      <td>34.0</td>\n",
       "      <td>0.99492</td>\n",
       "      <td>1.0</td>\n",
       "    </tr>\n",
       "    <tr>\n",
       "      <th>1587</th>\n",
       "      <td>10.90000</td>\n",
       "      <td>0.660000</td>\n",
       "      <td>28.000000</td>\n",
       "      <td>0.610000</td>\n",
       "      <td>3.550000</td>\n",
       "      <td>5.8</td>\n",
       "      <td>0.11</td>\n",
       "      <td>1.8</td>\n",
       "      <td>0.066</td>\n",
       "      <td>18.0</td>\n",
       "      <td>0.99483</td>\n",
       "      <td>1.0</td>\n",
       "    </tr>\n",
       "    <tr>\n",
       "      <th>1588</th>\n",
       "      <td>12.80000</td>\n",
       "      <td>0.780000</td>\n",
       "      <td>102.000000</td>\n",
       "      <td>0.660000</td>\n",
       "      <td>3.270000</td>\n",
       "      <td>7.2</td>\n",
       "      <td>0.33</td>\n",
       "      <td>2.5</td>\n",
       "      <td>0.068</td>\n",
       "      <td>34.0</td>\n",
       "      <td>0.99414</td>\n",
       "      <td>1.0</td>\n",
       "    </tr>\n",
       "    <tr>\n",
       "      <th>1589</th>\n",
       "      <td>9.20000</td>\n",
       "      <td>0.540000</td>\n",
       "      <td>79.000000</td>\n",
       "      <td>0.725000</td>\n",
       "      <td>3.290000</td>\n",
       "      <td>6.6</td>\n",
       "      <td>0.20</td>\n",
       "      <td>7.8</td>\n",
       "      <td>0.073</td>\n",
       "      <td>29.0</td>\n",
       "      <td>0.99770</td>\n",
       "      <td>0.0</td>\n",
       "    </tr>\n",
       "    <tr>\n",
       "      <th>1590</th>\n",
       "      <td>11.60000</td>\n",
       "      <td>0.820000</td>\n",
       "      <td>35.000000</td>\n",
       "      <td>0.550000</td>\n",
       "      <td>3.320000</td>\n",
       "      <td>6.3</td>\n",
       "      <td>0.15</td>\n",
       "      <td>1.8</td>\n",
       "      <td>0.077</td>\n",
       "      <td>26.0</td>\n",
       "      <td>0.99314</td>\n",
       "      <td>1.0</td>\n",
       "    </tr>\n",
       "    <tr>\n",
       "      <th>1591</th>\n",
       "      <td>11.60000</td>\n",
       "      <td>0.560000</td>\n",
       "      <td>26.000000</td>\n",
       "      <td>0.740000</td>\n",
       "      <td>3.670000</td>\n",
       "      <td>5.4</td>\n",
       "      <td>0.09</td>\n",
       "      <td>1.7</td>\n",
       "      <td>0.089</td>\n",
       "      <td>16.0</td>\n",
       "      <td>0.99402</td>\n",
       "      <td>1.0</td>\n",
       "    </tr>\n",
       "    <tr>\n",
       "      <th>1592</th>\n",
       "      <td>11.00000</td>\n",
       "      <td>0.750000</td>\n",
       "      <td>40.000000</td>\n",
       "      <td>0.510000</td>\n",
       "      <td>3.420000</td>\n",
       "      <td>6.3</td>\n",
       "      <td>0.13</td>\n",
       "      <td>2.3</td>\n",
       "      <td>0.076</td>\n",
       "      <td>29.0</td>\n",
       "      <td>0.99574</td>\n",
       "      <td>1.0</td>\n",
       "    </tr>\n",
       "    <tr>\n",
       "      <th>1593</th>\n",
       "      <td>9.50000</td>\n",
       "      <td>0.820000</td>\n",
       "      <td>38.000000</td>\n",
       "      <td>0.620000</td>\n",
       "      <td>3.420000</td>\n",
       "      <td>6.8</td>\n",
       "      <td>0.08</td>\n",
       "      <td>1.9</td>\n",
       "      <td>0.068</td>\n",
       "      <td>28.0</td>\n",
       "      <td>0.99651</td>\n",
       "      <td>1.0</td>\n",
       "    </tr>\n",
       "    <tr>\n",
       "      <th>1594</th>\n",
       "      <td>10.50000</td>\n",
       "      <td>0.580000</td>\n",
       "      <td>44.000000</td>\n",
       "      <td>0.600000</td>\n",
       "      <td>3.450000</td>\n",
       "      <td>6.2</td>\n",
       "      <td>0.08</td>\n",
       "      <td>2.0</td>\n",
       "      <td>0.090</td>\n",
       "      <td>32.0</td>\n",
       "      <td>0.99490</td>\n",
       "      <td>0.0</td>\n",
       "    </tr>\n",
       "    <tr>\n",
       "      <th>1595</th>\n",
       "      <td>11.20000</td>\n",
       "      <td>0.760000</td>\n",
       "      <td>51.000000</td>\n",
       "      <td>0.550000</td>\n",
       "      <td>3.520000</td>\n",
       "      <td>5.9</td>\n",
       "      <td>0.10</td>\n",
       "      <td>2.2</td>\n",
       "      <td>0.062</td>\n",
       "      <td>39.0</td>\n",
       "      <td>0.99512</td>\n",
       "      <td>1.0</td>\n",
       "    </tr>\n",
       "    <tr>\n",
       "      <th>1596</th>\n",
       "      <td>11.00000</td>\n",
       "      <td>0.750000</td>\n",
       "      <td>40.000000</td>\n",
       "      <td>0.510000</td>\n",
       "      <td>3.420000</td>\n",
       "      <td>6.3</td>\n",
       "      <td>0.13</td>\n",
       "      <td>2.3</td>\n",
       "      <td>0.076</td>\n",
       "      <td>29.0</td>\n",
       "      <td>0.99574</td>\n",
       "      <td>1.0</td>\n",
       "    </tr>\n",
       "    <tr>\n",
       "      <th>1597</th>\n",
       "      <td>10.20000</td>\n",
       "      <td>0.710000</td>\n",
       "      <td>44.000000</td>\n",
       "      <td>0.645000</td>\n",
       "      <td>3.570000</td>\n",
       "      <td>5.9</td>\n",
       "      <td>0.12</td>\n",
       "      <td>2.0</td>\n",
       "      <td>0.075</td>\n",
       "      <td>32.0</td>\n",
       "      <td>0.99547</td>\n",
       "      <td>0.0</td>\n",
       "    </tr>\n",
       "    <tr>\n",
       "      <th>1598</th>\n",
       "      <td>11.00000</td>\n",
       "      <td>0.660000</td>\n",
       "      <td>42.000000</td>\n",
       "      <td>0.310000</td>\n",
       "      <td>3.390000</td>\n",
       "      <td>6.0</td>\n",
       "      <td>0.47</td>\n",
       "      <td>3.6</td>\n",
       "      <td>0.067</td>\n",
       "      <td>18.0</td>\n",
       "      <td>0.99549</td>\n",
       "      <td>1.0</td>\n",
       "    </tr>\n",
       "  </tbody>\n",
       "</table>\n",
       "<p>1600 rows × 12 columns</p>\n",
       "</div>"
      ],
      "text/plain": [
       "       alcohol  sulphates  total sulfur dioxide  volatile acidity        pH  \\\n",
       "imp    0.69624   0.170287              0.076298          0.035946  0.021229   \n",
       "0      9.40000   0.560000             34.000000          0.700000  3.510000   \n",
       "1      9.80000   0.680000             67.000000          0.880000  3.200000   \n",
       "2      9.80000   0.650000             54.000000          0.760000  3.260000   \n",
       "3      9.80000   0.580000             60.000000          0.280000  3.160000   \n",
       "4      9.40000   0.560000             34.000000          0.700000  3.510000   \n",
       "5      9.40000   0.560000             40.000000          0.660000  3.510000   \n",
       "6      9.40000   0.460000             59.000000          0.600000  3.300000   \n",
       "7     10.00000   0.470000             21.000000          0.650000  3.390000   \n",
       "8      9.50000   0.570000             18.000000          0.580000  3.360000   \n",
       "9     10.50000   0.800000            102.000000          0.500000  3.350000   \n",
       "10     9.20000   0.540000             65.000000          0.580000  3.280000   \n",
       "11    10.50000   0.800000            102.000000          0.500000  3.350000   \n",
       "12     9.90000   0.520000             59.000000          0.615000  3.580000   \n",
       "13     9.10000   1.560000             29.000000          0.610000  3.260000   \n",
       "14     9.20000   0.880000            145.000000          0.620000  3.160000   \n",
       "15     9.20000   0.930000            148.000000          0.620000  3.170000   \n",
       "16    10.50000   0.750000            103.000000          0.280000  3.300000   \n",
       "17     9.30000   1.280000             56.000000          0.560000  3.110000   \n",
       "18     9.00000   0.500000             29.000000          0.590000  3.380000   \n",
       "19     9.20000   1.080000             56.000000          0.320000  3.040000   \n",
       "20     9.40000   0.530000             60.000000          0.220000  3.390000   \n",
       "21     9.70000   0.650000             71.000000          0.390000  3.520000   \n",
       "22     9.50000   0.910000             37.000000          0.430000  3.170000   \n",
       "23     9.40000   0.530000             67.000000          0.490000  3.170000   \n",
       "24     9.70000   0.630000             40.000000          0.400000  3.430000   \n",
       "25     9.30000   0.560000             23.000000          0.390000  3.340000   \n",
       "26     9.50000   0.590000             11.000000          0.410000  3.280000   \n",
       "27     9.50000   0.910000             37.000000          0.430000  3.170000   \n",
       "28     9.40000   0.550000             35.000000          0.710000  3.470000   \n",
       "...        ...        ...                   ...               ...       ...   \n",
       "1569  11.50000   0.570000             34.000000          0.510000  3.480000   \n",
       "1570  12.40000   0.930000             35.000000          0.360000  3.370000   \n",
       "1571  11.10000   0.650000             25.000000          0.380000  3.440000   \n",
       "1572   9.50000   0.510000            104.000000          0.690000  3.330000   \n",
       "1573  12.50000   0.670000             50.000000          0.580000  3.580000   \n",
       "1574  10.50000   0.480000             92.000000          0.310000  3.390000   \n",
       "1575  11.80000   0.640000             20.000000          0.520000  3.260000   \n",
       "1576  10.80000   0.780000             29.000000          0.300000  3.300000   \n",
       "1577  11.90000   0.600000             27.000000          0.700000  3.540000   \n",
       "1578  11.30000   0.670000             20.000000          0.670000  3.420000   \n",
       "1579  11.30000   0.600000             32.000000          0.560000  3.540000   \n",
       "1580  11.90000   0.600000             26.000000          0.350000  3.360000   \n",
       "1581  11.30000   0.600000             32.000000          0.560000  3.540000   \n",
       "1582  11.90000   0.500000             27.000000          0.715000  3.570000   \n",
       "1583   9.80000   0.620000             98.000000          0.460000  3.330000   \n",
       "1584  11.60000   0.800000             34.000000          0.320000  3.290000   \n",
       "1585  11.50000   0.840000             48.000000          0.390000  3.300000   \n",
       "1586  11.40000   0.850000             60.000000          0.310000  3.340000   \n",
       "1587  10.90000   0.660000             28.000000          0.610000  3.550000   \n",
       "1588  12.80000   0.780000            102.000000          0.660000  3.270000   \n",
       "1589   9.20000   0.540000             79.000000          0.725000  3.290000   \n",
       "1590  11.60000   0.820000             35.000000          0.550000  3.320000   \n",
       "1591  11.60000   0.560000             26.000000          0.740000  3.670000   \n",
       "1592  11.00000   0.750000             40.000000          0.510000  3.420000   \n",
       "1593   9.50000   0.820000             38.000000          0.620000  3.420000   \n",
       "1594  10.50000   0.580000             44.000000          0.600000  3.450000   \n",
       "1595  11.20000   0.760000             51.000000          0.550000  3.520000   \n",
       "1596  11.00000   0.750000             40.000000          0.510000  3.420000   \n",
       "1597  10.20000   0.710000             44.000000          0.645000  3.570000   \n",
       "1598  11.00000   0.660000             42.000000          0.310000  3.390000   \n",
       "\n",
       "      fixed acidity  citric acid  residual sugar  chlorides  \\\n",
       "imp             0.0         0.00             0.0      0.000   \n",
       "0               7.4         0.00             1.9      0.076   \n",
       "1               7.8         0.00             2.6      0.098   \n",
       "2               7.8         0.04             2.3      0.092   \n",
       "3              11.2         0.56             1.9      0.075   \n",
       "4               7.4         0.00             1.9      0.076   \n",
       "5               7.4         0.00             1.8      0.075   \n",
       "6               7.9         0.06             1.6      0.069   \n",
       "7               7.3         0.00             1.2      0.065   \n",
       "8               7.8         0.02             2.0      0.073   \n",
       "9               7.5         0.36             6.1      0.071   \n",
       "10              6.7         0.08             1.8      0.097   \n",
       "11              7.5         0.36             6.1      0.071   \n",
       "12              5.6         0.00             1.6      0.089   \n",
       "13              7.8         0.29             1.6      0.114   \n",
       "14              8.9         0.18             3.8      0.176   \n",
       "15              8.9         0.19             3.9      0.170   \n",
       "16              8.5         0.56             1.8      0.092   \n",
       "17              8.1         0.28             1.7      0.368   \n",
       "18              7.4         0.08             4.4      0.086   \n",
       "19              7.9         0.51             1.8      0.341   \n",
       "20              8.9         0.48             1.8      0.077   \n",
       "21              7.6         0.31             2.3      0.082   \n",
       "22              7.9         0.21             1.6      0.106   \n",
       "23              8.5         0.11             2.3      0.084   \n",
       "24              6.9         0.14             2.4      0.085   \n",
       "25              6.3         0.16             1.4      0.080   \n",
       "26              7.6         0.24             1.8      0.080   \n",
       "27              7.9         0.21             1.6      0.106   \n",
       "28              7.1         0.00             1.9      0.080   \n",
       "...             ...          ...             ...        ...   \n",
       "1569            6.2         0.14             1.9      0.056   \n",
       "1570            6.4         0.53             2.2      0.230   \n",
       "1571            6.4         0.14             2.2      0.038   \n",
       "1572            7.3         0.32             2.2      0.069   \n",
       "1573            6.0         0.20             2.4      0.075   \n",
       "1574            5.6         0.78            13.9      0.074   \n",
       "1575            7.5         0.40             2.2      0.060   \n",
       "1576            8.0         0.63             1.6      0.081   \n",
       "1577            6.2         0.15             5.1      0.076   \n",
       "1578            6.8         0.15             1.8      0.118   \n",
       "1579            6.2         0.09             1.7      0.053   \n",
       "1580            7.4         0.33             2.4      0.068   \n",
       "1581            6.2         0.09             1.7      0.053   \n",
       "1582            6.1         0.10             2.6      0.053   \n",
       "1583            6.2         0.29             2.1      0.074   \n",
       "1584            6.7         0.44             2.4      0.061   \n",
       "1585            7.2         0.44             2.6      0.066   \n",
       "1586            7.5         0.41             2.4      0.065   \n",
       "1587            5.8         0.11             1.8      0.066   \n",
       "1588            7.2         0.33             2.5      0.068   \n",
       "1589            6.6         0.20             7.8      0.073   \n",
       "1590            6.3         0.15             1.8      0.077   \n",
       "1591            5.4         0.09             1.7      0.089   \n",
       "1592            6.3         0.13             2.3      0.076   \n",
       "1593            6.8         0.08             1.9      0.068   \n",
       "1594            6.2         0.08             2.0      0.090   \n",
       "1595            5.9         0.10             2.2      0.062   \n",
       "1596            6.3         0.13             2.3      0.076   \n",
       "1597            5.9         0.12             2.0      0.075   \n",
       "1598            6.0         0.47             3.6      0.067   \n",
       "\n",
       "      free sulfur dioxide  density  quality  \n",
       "imp                   0.0  0.00000      0.0  \n",
       "0                    11.0  0.99780      0.0  \n",
       "1                    25.0  0.99680      0.0  \n",
       "2                    15.0  0.99700      0.0  \n",
       "3                    17.0  0.99800      1.0  \n",
       "4                    11.0  0.99780      0.0  \n",
       "5                    13.0  0.99780      0.0  \n",
       "6                    15.0  0.99640      0.0  \n",
       "7                    15.0  0.99460      1.0  \n",
       "8                     9.0  0.99680      1.0  \n",
       "9                    17.0  0.99780      0.0  \n",
       "10                   15.0  0.99590      0.0  \n",
       "11                   17.0  0.99780      0.0  \n",
       "12                   16.0  0.99430      0.0  \n",
       "13                    9.0  0.99740      0.0  \n",
       "14                   52.0  0.99860      0.0  \n",
       "15                   51.0  0.99860      0.0  \n",
       "16                   35.0  0.99690      1.0  \n",
       "17                   16.0  0.99680      0.0  \n",
       "18                    6.0  0.99740      0.0  \n",
       "19                   17.0  0.99690      1.0  \n",
       "20                   29.0  0.99680      1.0  \n",
       "21                   23.0  0.99820      0.0  \n",
       "22                   10.0  0.99660      0.0  \n",
       "23                    9.0  0.99680      0.0  \n",
       "24                   21.0  0.99680      1.0  \n",
       "25                   11.0  0.99550      0.0  \n",
       "26                    4.0  0.99620      0.0  \n",
       "27                   10.0  0.99660      0.0  \n",
       "28                   14.0  0.99720      0.0  \n",
       "...                   ...      ...      ...  \n",
       "1569                 15.0  0.99396      1.0  \n",
       "1570                 19.0  0.99340      1.0  \n",
       "1571                 15.0  0.99514      1.0  \n",
       "1572                 35.0  0.99632      0.0  \n",
       "1573                 15.0  0.99467      1.0  \n",
       "1574                 23.0  0.99677      1.0  \n",
       "1575                 12.0  0.99474      1.0  \n",
       "1576                 16.0  0.99588      1.0  \n",
       "1577                 13.0  0.99622      1.0  \n",
       "1578                 13.0  0.99540      1.0  \n",
       "1579                 24.0  0.99402      0.0  \n",
       "1580                  9.0  0.99470      1.0  \n",
       "1581                 24.0  0.99402      0.0  \n",
       "1582                 13.0  0.99362      0.0  \n",
       "1583                 32.0  0.99578      0.0  \n",
       "1584                 24.0  0.99484      1.0  \n",
       "1585                 22.0  0.99494      1.0  \n",
       "1586                 34.0  0.99492      1.0  \n",
       "1587                 18.0  0.99483      1.0  \n",
       "1588                 34.0  0.99414      1.0  \n",
       "1589                 29.0  0.99770      0.0  \n",
       "1590                 26.0  0.99314      1.0  \n",
       "1591                 16.0  0.99402      1.0  \n",
       "1592                 29.0  0.99574      1.0  \n",
       "1593                 28.0  0.99651      1.0  \n",
       "1594                 32.0  0.99490      0.0  \n",
       "1595                 39.0  0.99512      1.0  \n",
       "1596                 29.0  0.99574      1.0  \n",
       "1597                 32.0  0.99547      0.0  \n",
       "1598                 18.0  0.99549      1.0  \n",
       "\n",
       "[1600 rows x 12 columns]"
      ]
     },
     "execution_count": 81,
     "metadata": {},
     "output_type": "execute_result"
    }
   ],
   "source": [
    "with_imp=pd.concat((imp,df_wine))\n",
    "with_imp.index=(newindex)\n",
    "with_imp.sort_values(by=\"imp\",axis=1,ascending=False)"
   ]
  },
  {
   "cell_type": "code",
   "execution_count": 82,
   "metadata": {
    "collapsed": false
   },
   "outputs": [],
   "source": [
    "df_wine.sample(frac=1)\n",
    "trainsize=(df_wine.shape[0]//5)*4\n",
    "testsize=df_wine.shape[0]-trainsize\n",
    "training = df_wine[:trainsize]\n",
    "test=df_wine[testsize:]\n",
    "Y_train = list(training.quality.values)\n",
    "X_train = training.drop([\"quality\"], axis = 1)\n",
    "Y_test=list(test.quality.values)\n",
    "X_test = test.drop([\"quality\"], axis = 1)"
   ]
  },
  {
   "cell_type": "markdown",
   "metadata": {},
   "source": [
    "#### Задание (2 балла)\n",
    "* Получите предсказания на тестовой выборке\n",
    "* Постройте ROC кривые для обучающей и тестовой выборок\n",
    "* Посчитайте остальные меры качества классификации при пороге в `0.5`"
   ]
  },
  {
   "cell_type": "raw",
   "metadata": {},
   "source": []
  },
  {
   "cell_type": "code",
   "execution_count": 91,
   "metadata": {
    "collapsed": false
   },
   "outputs": [],
   "source": [
    "Y_score_train=model.predict(X_test)\n",
    "Y_score_test=model.predict(X_train)\n",
    "from sklearn.metrics import roc_curve, auc"
   ]
  },
  {
   "cell_type": "code",
   "execution_count": 92,
   "metadata": {
    "collapsed": false
   },
   "outputs": [],
   "source": [
    "fpr_test, tpr_test, _ = roc_curve(Y_test, Y_score_test)\n",
    "roc_auc_test= auc(fpr_test, tpr_test)"
   ]
  },
  {
   "cell_type": "code",
   "execution_count": 93,
   "metadata": {
    "collapsed": true
   },
   "outputs": [],
   "source": [
    "fpr_train, tpr_train, _ = roc_curve(Y_train, Y_score_train)\n",
    "roc_auc_train= auc(fpr_train, tpr_train)"
   ]
  },
  {
   "cell_type": "code",
   "execution_count": 102,
   "metadata": {
    "collapsed": false
   },
   "outputs": [
    {
     "data": {
      "image/png": "[encoded data removed]",
      "text/plain": [
       "<matplotlib.figure.Figure at 0xc681048>"
      ]
     },
     "metadata": {},
     "output_type": "display_data"
    }
   ],
   "source": [
    "plt.figure()\n",
    "plt.plot(fpr_test, tpr_test, color='red',\n",
    "         label='ROC curve for test (area = %0.2f)' % roc_auc_test)\n",
    "plt.plot(fpr_train, tpr_train, color='green',\n",
    "         label='ROC curve for train (area = %0.2f)' % roc_auc_train)\n",
    "plt.plot([0, 1], [0, 1], color='blue', lw=lw, linestyle='--')\n",
    "plt.xlim([0.0, 1.0])\n",
    "plt.ylim([0.0, 1.05])\n",
    "plt.xlabel('False Positive Rate')\n",
    "plt.ylabel('True Positive Rate')\n",
    "plt.title('Receiver operating characteristic example')\n",
    "plt.legend(loc=\"lower right\")\n",
    "plt.show()"
   ]
  },
  {
   "cell_type": "markdown",
   "metadata": {},
   "source": [
    "Другие меры качества:"
   ]
  },
  {
   "cell_type": "code",
   "execution_count": 95,
   "metadata": {
    "collapsed": false
   },
   "outputs": [
    {
     "data": {
      "text/plain": [
       "0.73589341692789967"
      ]
     },
     "execution_count": 95,
     "metadata": {},
     "output_type": "execute_result"
    }
   ],
   "source": [
    "model.score(X_test,Y_test)"
   ]
  },
  {
   "cell_type": "code",
   "execution_count": 101,
   "metadata": {
    "collapsed": false
   },
   "outputs": [
    {
     "name": "stdout",
     "output_type": "stream",
     "text": [
      "Accuracy: 0.65 (+/- 0.03)\n"
     ]
    }
   ],
   "source": [
    "scores = cross_val_score(DecisionTreeClassifier(max_depth=d+1),X_test,Y_test,scoring=\"accuracy\")\n",
    "print(\"Accuracy: %0.2f (+/- %0.2f)\" % (scores.mean(), scores.std() * 2))"
   ]
  },
  {
   "cell_type": "code",
   "execution_count": 100,
   "metadata": {
    "collapsed": false
   },
   "outputs": [
    {
     "name": "stdout",
     "output_type": "stream",
     "text": [
      "Precision: 0.72 (+/- 0.06)\n"
     ]
    }
   ],
   "source": [
    "scores = cross_val_score(model,X_test,Y_test,scoring=\"precision\")\n",
    "print(\"Precision: %0.2f (+/- %0.2f)\" % (scores.mean(), scores.std() * 2))"
   ]
  },
  {
   "cell_type": "markdown",
   "metadata": {},
   "source": [
    "#### Задание (1 балл)\n",
    "Перейдем к модели случайного леса. Зафиксируем некоторую глубину дерева (можно звять оптимальное с предыдущих заданий).\n",
    "\n",
    "Сравните качество работы \n",
    "* Простого дерева решений\n",
    "* Бэггинга над 10,20,...,100 деревьями решений\n",
    "* Случайного леса с 10,20,...,100 деревьями решений\n",
    "\n",
    "Получите график, у которого по оси X откладывается количество деревьев, а по оси Y - качество классификации."
   ]
  },
  {
   "cell_type": "code",
   "execution_count": 109,
   "metadata": {
    "collapsed": true
   },
   "outputs": [],
   "source": [
    "from sklearn.ensemble import BaggingClassifier\n",
    "from sklearn.ensemble import RandomForestClassifier"
   ]
  },
  {
   "cell_type": "code",
   "execution_count": 247,
   "metadata": {
    "collapsed": false
   },
   "outputs": [],
   "source": [
    "simple=cross_val_score(DecisionTreeClassifier(max_depth=3),X_train,Y_train,scoring=\"roc_auc\").mean()"
   ]
  },
  {
   "cell_type": "code",
   "execution_count": 239,
   "metadata": {
    "collapsed": false
   },
   "outputs": [],
   "source": [
    "Forest_scores=validation_curve(RandomForestClassifier(),X_train,Y_train,param_name=\"n_estimators\",param_range=range(10,110,10),scoring=\"roc_auc\")"
   ]
  },
  {
   "cell_type": "code",
   "execution_count": 240,
   "metadata": {
    "collapsed": false
   },
   "outputs": [],
   "source": [
    "Bag_scores=validation_curve(BaggingClassifier(),X_train,Y_train,param_name=\"n_estimators\",param_range=range(10,110,10),scoring=\"roc_auc\")"
   ]
  },
  {
   "cell_type": "code",
   "execution_count": 241,
   "metadata": {
    "collapsed": false
   },
   "outputs": [],
   "source": [
    "Forest_scores=np.mean(Forest_scores,axis=0)\n",
    "Bag_scores=np.mean(Bag_scores,axis=0)"
   ]
  },
  {
   "cell_type": "code",
   "execution_count": 244,
   "metadata": {
    "collapsed": false
   },
   "outputs": [],
   "source": [
    "Forest_scores=np.mean(Forest_scores,axis=1)\n",
    "Bag_scores=np.mean(Bag_scores,axis=1)"
   ]
  },
  {
   "cell_type": "code",
   "execution_count": 249,
   "metadata": {
    "collapsed": true
   },
   "outputs": [],
   "source": [
    "Simple_scores=np.empty(10)\n",
    "Simple_scores.fill(simple)\n"
   ]
  },
  {
   "cell_type": "code",
   "execution_count": 251,
   "metadata": {
    "collapsed": false
   },
   "outputs": [
    {
     "data": {
      "image/png": "[encoded data removed]",
      "text/plain": [
       "<matplotlib.figure.Figure at 0xdc1a198>"
      ]
     },
     "metadata": {},
     "output_type": "display_data"
    }
   ],
   "source": [
    "plt.figure()\n",
    "plt.plot(range(10,110,10),Bag_scores,c=\"green\")\n",
    "plt.plot(range(10,110,10),Forest_scores,c=\"red\")\n",
    "plt.plot(range(10,110,10),Simple_scores,c=\"navy\")\n",
    "plt.show()"
   ]
  },
  {
   "cell_type": "markdown",
   "metadata": {},
   "source": [
    "####  Задание (3 балла)\n",
    "* С помощью `GridSearchCV` или `RandomSearchCV` подберите наиболее оптимальные параметры для случайного леса.\n",
    "* Для этих параметров сравните средние результаты по кросс-валидации и качество на контрольной выборке"
   ]
  },
  {
   "cell_type": "code",
   "execution_count": 104,
   "metadata": {
    "collapsed": false
   },
   "outputs": [],
   "source": [
    "from sklearn.model_selection import GridSearchCV"
   ]
  },
  {
   "cell_type": "code",
   "execution_count": 119,
   "metadata": {
    "collapsed": false
   },
   "outputs": [],
   "source": [
    "param_grid=dict(n_estimators=range(10,110,10),max_depth=range(1,8,1),criterion=[\"gini\",\"entropy\"])"
   ]
  },
  {
   "cell_type": "code",
   "execution_count": 120,
   "metadata": {
    "collapsed": false
   },
   "outputs": [],
   "source": [
    "grid=GridSearchCV(RandomForestClassifier(),param_grid=param_grid)"
   ]
  },
  {
   "cell_type": "code",
   "execution_count": 121,
   "metadata": {
    "collapsed": false
   },
   "outputs": [
    {
     "data": {
      "text/plain": [
       "GridSearchCV(cv=None, error_score='raise',\n",
       "       estimator=RandomForestClassifier(bootstrap=True, class_weight=None, criterion='gini',\n",
       "            max_depth=None, max_features='auto', max_leaf_nodes=None,\n",
       "            min_impurity_split=1e-07, min_samples_leaf=1,\n",
       "            min_samples_split=2, min_weight_fraction_leaf=0.0,\n",
       "            n_estimators=10, n_jobs=1, oob_score=False, random_state=None,\n",
       "            verbose=0, warm_start=False),\n",
       "       fit_params={}, iid=True, n_jobs=1,\n",
       "       param_grid={'n_estimators': [10, 20, 30, 40, 50, 60, 70, 80, 90, 100], 'criterion': ['gini', 'entropy'], 'max_depth': [1, 2, 3, 4, 5, 6, 7]},\n",
       "       pre_dispatch='2*n_jobs', refit=True, return_train_score=True,\n",
       "       scoring=None, verbose=0)"
      ]
     },
     "execution_count": 121,
     "metadata": {},
     "output_type": "execute_result"
    }
   ],
   "source": [
    "grid.fit(X_train,Y_train)"
   ]
  },
  {
   "cell_type": "code",
   "execution_count": 122,
   "metadata": {
    "collapsed": false
   },
   "outputs": [
    {
     "data": {
      "text/plain": [
       "{'criterion': 'gini', 'max_depth': 3, 'n_estimators': 90}"
      ]
     },
     "execution_count": 122,
     "metadata": {},
     "output_type": "execute_result"
    }
   ],
   "source": [
    "grid.best_params_"
   ]
  },
  {
   "cell_type": "code",
   "execution_count": 125,
   "metadata": {
    "collapsed": false
   },
   "outputs": [],
   "source": [
    "The_best=grid.best_estimator_"
   ]
  },
  {
   "cell_type": "code",
   "execution_count": 128,
   "metadata": {
    "collapsed": false
   },
   "outputs": [
    {
     "data": {
      "text/plain": [
       "0.71557120500782467"
      ]
     },
     "execution_count": 128,
     "metadata": {},
     "output_type": "execute_result"
    }
   ],
   "source": [
    "cross_val_score(The_best,X_train,Y_train).mean()"
   ]
  },
  {
   "cell_type": "code",
   "execution_count": 129,
   "metadata": {
    "collapsed": false
   },
   "outputs": [
    {
     "data": {
      "text/plain": [
       "0.76802507836990597"
      ]
     },
     "execution_count": 129,
     "metadata": {},
     "output_type": "execute_result"
    }
   ],
   "source": [
    "The_best.score(X_test,Y_test)"
   ]
  },
  {
   "cell_type": "markdown",
   "metadata": {},
   "source": [
    "Результаты на контрольной выборке оказались лучше, чем результаты кросс-валидации на тренировочной"
   ]
  }
 ],
 "metadata": {
  "anaconda-cloud": {},
  "kernelspec": {
   "display_name": "Python 2",
   "language": "python",
   "name": "python2"
  },
  "language_info": {
   "codemirror_mode": {
    "name": "ipython",
    "version": 2
   },
   "file_extension": ".py",
   "mimetype": "text/x-python",
   "name": "python",
   "nbconvert_exporter": "python",
   "pygments_lexer": "ipython2",
   "version": "2.7.13"
  },
  "nav_menu": {},
  "toc": {
   "navigate_menu": true,
   "number_sections": false,
   "sideBar": false,
   "threshold": 6,
   "toc_cell": false,
   "toc_section_display": "block",
   "toc_window_display": true
  },
  "toc_position": {
   "height": "80px",
   "left": "28px",
   "right": "862.667px",
   "top": "138px",
   "width": "176px"
  }
 },
 "nbformat": 4,
 "nbformat_minor": 0
}
