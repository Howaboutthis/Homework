{
 "cells": [
  {
   "cell_type": "markdown",
   "metadata": {},
   "source": [
    "# Алгоритмы интеллектуальной обработки больших объемов данных\n",
    "## Домашнее задание №4: Линейные модели, введение в конкурсную задачу\n"
   ]
  },
  {
   "cell_type": "markdown",
   "metadata": {},
   "source": [
    "###### <hr\\>\n",
    "**Общая информация**\n",
    "\n",
    "**Срок сдачи:** 17 апреля 2017, 06:00 <br\\>\n",
    "**Штраф за опоздание:** -2 балла после 06:00 17 апреля, -4 балла после 06:00 24 апреля, -6 баллов после 06:00 1 мая\n",
    "\n",
    "Имеется ввиду именно сдача данного ДЗ, а не конечного результата по конкурсу (см ниже).<br\\>\n",
    "Жесткий дедлайн по конкурсной задаче - 14 мая 23:59 GMT.\n",
    "\n",
    "При отправлении ДЗ указывайте фамилию в названии файла<br\\>\n",
    "\n",
    "Используйте данный Ipython Notebook при оформлении домашнего задания.\n",
    "<hr\\>"
   ]
  },
  {
   "cell_type": "code",
   "execution_count": 1,
   "metadata": {
    "collapsed": true
   },
   "outputs": [],
   "source": [
    "import pandas as pd\n",
    "import numpy as np\n",
    "import matplotlib.pyplot as plt\n",
    "\n",
    "%matplotlib inline\n",
    "\n",
    "plt.style.use('ggplot')\n",
    "plt.rcParams['figure.figsize'] = (12,5)"
   ]
  },
  {
   "cell_type": "markdown",
   "metadata": {},
   "source": [
    "# Определям, что вам досталось"
   ]
  },
  {
   "cell_type": "markdown",
   "metadata": {},
   "source": [
    "<center><img src='https://static1.squarespace.com/static/571a6e39b6aa608067028725/t/577988518419c2d62fb5922f/1467582555915/'></center>"
   ]
  },
  {
   "cell_type": "markdown",
   "metadata": {},
   "source": [
    "Укажите свою фамилию на русском языке в поле ниже."
   ]
  },
  {
   "cell_type": "code",
   "execution_count": 3,
   "metadata": {},
   "outputs": [
    {
     "name": "stdout",
     "output_type": "stream",
     "text": [
      "Имплементируйте обучение логистической регрессии с L1 регуляризацией с помощью метода  Stochastic Gradient Descent (SGD)\n"
     ]
    }
   ],
   "source": [
    "USER_NAME = u\"Петренко\".lower()\n",
    "REGULARIZATIONS = [\"L1\", \"L2\"]\n",
    "ALGORITHM = [\"\", \"Mini Batch\"]\n",
    "\n",
    "print \"Имплементируйте обучение логистической регрессии с %s регуляризацией с помощью метода %s Stochastic Gradient Descent (SGD)\"\\\n",
    "% (\n",
    "    REGULARIZATIONS[hash(USER_NAME) % 2],\n",
    "    ALGORITHM[hash(USER_NAME[::-1]) % 2]\n",
    ")"
   ]
  },
  {
   "cell_type": "markdown",
   "metadata": {},
   "source": [
    "#### Замечания\n",
    "* В SGD градиент расчитывается по одному случайному объекту\n",
    "* В Mini Batch SGD - по подвыборке объектов т.е в алгоритме надо\n",
    "    * Перемешать выборку\n",
    "    * Разбить на части (примерно) одинакового размера - мини батчи\n",
    "    * Считать градиент по мини батчам\n",
    "* Сделайте убывающую скорость спуска, например `alpha/n_epoch` или `alpha/n_iter` или `alpha/n_batch` или ...\n",
    "* Для отладки работы алгоритма, реализуйте возможность сохранения или вывода ошибки модели после очередной итерации/батча/эпохи.\n",
    "* Правило останова - максимальное количество эпох\n",
    "    \n",
    "Эпохой в SGD и MB-SGD называется один проход по **всем** объектам в выборке (тем или иным способом)"
   ]
  },
  {
   "cell_type": "markdown",
   "metadata": {},
   "source": [
    "# Реализация модели"
   ]
  },
  {
   "cell_type": "markdown",
   "metadata": {},
   "source": [
    "## Имплементация (6 баллов)"
   ]
  },
  {
   "cell_type": "code",
   "execution_count": 2,
   "metadata": {
    "collapsed": true
   },
   "outputs": [],
   "source": [
    "  def sign(x):\n",
    "        if (x>0):\n",
    "            return 1\n",
    "        elif (x==0):\n",
    "            return 0\n",
    "        else:\n",
    "            return -1\n",
    "        "
   ]
  },
  {
   "cell_type": "code",
   "execution_count": 3,
   "metadata": {
    "collapsed": true
   },
   "outputs": [],
   "source": [
    "from sklearn.base import BaseEstimator, ClassifierMixin\n",
    "\n",
    "class MySGDClassifier(BaseEstimator, ClassifierMixin):\n",
    "    \"\"\"\n",
    "    Предполагается, что в выборке всегда 2 класса\n",
    "    \"\"\"\n",
    "    def gradi(self,x,beta,y):\n",
    "        a=(x*(np.dot(x,beta)-y))/len(x)\n",
    "        b=(np.asarray(map(sign,beta))+0.0)/(len(x)*2*self.C)\n",
    "        return (a+b)\n",
    "    \n",
    "    def __init__(self, C=1, alpha=0.01, max_epoch=10,random_state=12,backuping=\"No\"):\n",
    "        \"\"\"\n",
    "        C - коэф. регуляризации\n",
    "        alpha - скорость спуска\n",
    "        max_epoch - максимальное количество эпох\n",
    "        \"\"\"\n",
    "        \n",
    "        self.C = C\n",
    "        self.alpha = alpha\n",
    "        self.max_epoch = max_epoch\n",
    "        self.random_state=random_state\n",
    "        self.backuping=backuping\n",
    "\n",
    "    \n",
    "    def fit(self, X, y):\n",
    "        '''\n",
    "        Обучение модели\n",
    "        '''\n",
    "        X=np.insert(X,0,1,axis=1)\n",
    "        np.random.seed(self.random_state)\n",
    "        self.beta=np.random.random_sample((X.shape[1]))\n",
    "        self.beta=(self.beta+0.0)/(X.shape[1]+0.0)\n",
    "        newbeta=np.empty(X.shape[1])\n",
    "        if (self.backuping==\"Yes\"):\n",
    "            self.backup=np.empty([self.max_epoch,self.beta.shape[0]])\n",
    "        for i in xrange(self.max_epoch):\n",
    "            if (self.backuping==\"Yes\"):\n",
    "                self.make_backup(i)\n",
    "            np.random.shuffle(X)\n",
    "            for j in xrange(X.shape[0]):\n",
    "                newbeta=self.beta-(self.alpha/(j+1))*self.gradi(X[j],self.beta,y[j])\n",
    "                self.beta=newbeta\n",
    "                #print self.gradi(X[j],self.beta,y[j])\n",
    "\n",
    "            #print self.beta\n",
    "            \n",
    "        return self\n",
    "    \n",
    "    \n",
    "    def make_backup(self,i):\n",
    "        self.backup[i]=self.beta\n",
    "        #print self.backup[i]\n",
    "    \n",
    "    def partial_fit(self, X, y=None):\n",
    "        '''\n",
    "        По желанию - метод дообучения модели на новых данных\n",
    "        '''\n",
    "    \n",
    "        return self\n",
    "    \n",
    "    def roundit(self,y):\n",
    "        if (y>0.5):\n",
    "            return 1\n",
    "        else:\n",
    "            return 0\n",
    "        \n",
    "    def predict(self, X):\n",
    "        X=np.insert(X,0,1,axis=1)\n",
    "        y_hat=np.asarray(map(self.roundit,np.dot(X,self.beta)))\n",
    "        '''\n",
    "        Возвращение метки класса\n",
    "        '''\n",
    "        \n",
    "        return y_hat\n",
    "    \n",
    "    def predict_proba(self, X):\n",
    "        X=np.insert(X,0,1,axis=1)\n",
    "        '''\n",
    "        Возвращение вероятности каждого из классов\n",
    "        '''\n",
    "\n",
    "        y_hat_proba=np.dot(X,self.beta)\n",
    "        \n",
    "        return y_hat_proba"
   ]
  },
  {
   "cell_type": "markdown",
   "metadata": {},
   "source": [
    "## Проверка на синтетических данных (2 балл)"
   ]
  },
  {
   "cell_type": "markdown",
   "metadata": {},
   "source": [
    "Запустите ваш алгоритм на синтетических данных. \n",
    "Выведите полученные веса и нарисуйте разделяющую границу между классами."
   ]
  },
  {
   "cell_type": "code",
   "execution_count": 25,
   "metadata": {},
   "outputs": [
    {
     "data": {
      "text/plain": [
       "<matplotlib.collections.PathCollection at 0x1528cba8>"
      ]
     },
     "execution_count": 25,
     "metadata": {},
     "output_type": "execute_result"
    },
    {
     "data": {
      "image/png": "[encoded data removed]",
      "text/plain": [
       "<matplotlib.figure.Figure at 0x182494a8>"
      ]
     },
     "metadata": {},
     "output_type": "display_data"
    }
   ],
   "source": [
    "np.random.seed(0)\n",
    "\n",
    "C1 = np.array([[0., -0.8], [1.5, 0.8]])\n",
    "C2 = np.array([[1., -0.7], [2., 0.7]])\n",
    "gauss1 = np.dot(np.random.randn(200, 2) + np.array([5, 3]), C1)\n",
    "gauss2 = np.dot(np.random.randn(200, 2) + np.array([1.5, 0]), C2)\n",
    "\n",
    "X = np.vstack([gauss1, gauss2])\n",
    "y = np.r_[np.ones(200), np.zeros(200)]\n",
    "\n",
    "plt.scatter(X[:,0], X[:,1], c=y)"
   ]
  },
  {
   "cell_type": "code",
   "execution_count": 26,
   "metadata": {},
   "outputs": [
    {
     "data": {
      "text/plain": [
       "(400L, 2L)"
      ]
     },
     "execution_count": 26,
     "metadata": {},
     "output_type": "execute_result"
    }
   ],
   "source": [
    "X.shape"
   ]
  },
  {
   "cell_type": "code",
   "execution_count": 27,
   "metadata": {},
   "outputs": [
    {
     "data": {
      "text/plain": [
       "MySGDClassifier(C=1, alpha=0.01, backuping='Yes', max_epoch=10,\n",
       "        random_state=12)"
      ]
     },
     "execution_count": 27,
     "metadata": {},
     "output_type": "execute_result"
    }
   ],
   "source": [
    "model = MySGDClassifier(backuping=\"Yes\")\n",
    "model.fit(X, y)"
   ]
  },
  {
   "cell_type": "code",
   "execution_count": 9,
   "metadata": {},
   "outputs": [
    {
     "data": {
      "text/plain": [
       "[<matplotlib.lines.Line2D at 0x26dba20>]"
      ]
     },
     "execution_count": 9,
     "metadata": {},
     "output_type": "execute_result"
    },
    {
     "data": {
      "image/png": "[encoded data removed]",
      "text/plain": [
       "<matplotlib.figure.Figure at 0x9bf9be0>"
      ]
     },
     "metadata": {},
     "output_type": "display_data"
    }
   ],
   "source": [
    "\n",
    "beta=model.backup[9]\n",
    "fig = plt.figure(figsize=(14, 7))\n",
    "#ax = fig.add_subplot(1, 2, 1)\n",
    "plt.axis([-6.0, 8.0,-6.0, 2.0])\n",
    "plt.scatter(X[:,0], X[:,1], c=model.predict(X))\n",
    "t=np.arange(-5,9,0.001)\n",
    "plt.plot(t,(0.5-beta[0]-t*beta[1])/beta[2])"
   ]
  },
  {
   "cell_type": "code",
   "execution_count": 10,
   "metadata": {},
   "outputs": [
    {
     "data": {
      "text/plain": [
       "array([  7.83063388e-01,   1.11021230e+00,   5.29301951e-01,\n",
       "         6.65639663e-01,   7.50468805e-01,   9.48765615e-01,\n",
       "         7.12822900e-01,   7.46307902e-01,   6.65713637e-01,\n",
       "         5.23418470e-01,   7.50272298e-01,   5.54391553e-01,\n",
       "         4.48184339e-01,   6.42265259e-01,   9.77248495e-01,\n",
       "         7.49222567e-01,   2.92075276e-01,   6.98750448e-01,\n",
       "         9.22098499e-01,   6.12887882e-01,   3.93192240e-01,\n",
       "         1.00670584e+00,   5.85424105e-01,   7.97310372e-01,\n",
       "         6.06828437e-01,   7.31418865e-01,   4.47571273e-01,\n",
       "         7.55148125e-01,   7.33537689e-01,   5.97101628e-01,\n",
       "         5.96988059e-01,   3.40697782e-01,   6.04867366e-01,\n",
       "         7.31915578e-01,   6.69026255e-01,   7.13588552e-01,\n",
       "         4.68030336e-01,   5.56491798e-01,   5.52614887e-01,\n",
       "         6.80827066e-01,   8.21824564e-01,   3.99622117e-01,\n",
       "         1.05559640e+00,   6.64566355e-01,   8.52085800e-01,\n",
       "         8.95614165e-01,   8.61296319e-01,   8.13906202e-01,\n",
       "         1.00784601e+00,   7.53126763e-01,   4.60822640e-01,\n",
       "         8.32604344e-01,   1.01523773e+00,   5.29773768e-01,\n",
       "         9.86534780e-01,   8.78879011e-01,   1.01477724e+00,\n",
       "         8.20156900e-01,   6.64909169e-01,   8.58697542e-01,\n",
       "         4.79057352e-01,   9.27879098e-01,   6.35543717e-01,\n",
       "         1.01137112e+00,   7.64228666e-01,   7.62018918e-01,\n",
       "         6.69600982e-01,   7.89962090e-01,   6.48162998e-01,\n",
       "         4.80596160e-01,   7.30143411e-01,   7.97118712e-01,\n",
       "         8.95548242e-01,   8.66619568e-01,   5.66149584e-01,\n",
       "         9.92927387e-01,   5.08989119e-01,   5.51189834e-01,\n",
       "         4.96545317e-01,   5.73675743e-01,   1.02510744e+00,\n",
       "         7.09972832e-01,   8.10229064e-01,   3.70929848e-01,\n",
       "         7.56964567e-01,   7.52354934e-01,   5.71167943e-01,\n",
       "         7.83552290e-01,   5.33313284e-01,   6.70983530e-01,\n",
       "         4.14402318e-01,   2.51558851e-01,   3.90356927e-01,\n",
       "         6.65422211e-01,   9.48896374e-01,   7.01823143e-01,\n",
       "         4.58618839e-01,   6.53998906e-01,   8.43293314e-01,\n",
       "         9.64252259e-01,   6.24903146e-01,   8.18128495e-01,\n",
       "         3.87867086e-01,   5.38722453e-01,   6.63121986e-01,\n",
       "         7.51877245e-01,   6.04130231e-01,   5.82585023e-01,\n",
       "         7.46225869e-01,   7.10102780e-01,   5.94264476e-01,\n",
       "         7.56961214e-01,   6.59411106e-01,   7.22154727e-01,\n",
       "         6.20954638e-01,   5.58258817e-01,   7.43350107e-01,\n",
       "         7.99785319e-01,   3.19577227e-01,   8.09692408e-01,\n",
       "         5.90634540e-01,   6.18431003e-01,   3.59353657e-01,\n",
       "         8.97870150e-01,   3.88927914e-01,   5.78923804e-01,\n",
       "         6.19515946e-01,   8.17910021e-01,   4.05968478e-01,\n",
       "         7.60186151e-01,   5.60103378e-01,   6.55378139e-01,\n",
       "         6.75395224e-01,   7.02264876e-01,   6.88493282e-01,\n",
       "         1.68902498e-01,   7.84743549e-01,   5.91530472e-01,\n",
       "         6.63743760e-01,   1.02181415e+00,   8.63480852e-01,\n",
       "         9.48543024e-01,   7.94470982e-01,   8.81642393e-01,\n",
       "         9.30565858e-01,   5.75261021e-01,   5.22014233e-01,\n",
       "         8.84675934e-01,   7.86177075e-01,   7.37465021e-01,\n",
       "         9.59778665e-01,   5.47725504e-01,   6.02969902e-01,\n",
       "         4.01514321e-01,   6.59374384e-01,   8.73738707e-01,\n",
       "         5.19698079e-01,   6.86559001e-01,   6.22132458e-01,\n",
       "         6.55106156e-01,   5.11949967e-01,   5.15871211e-01,\n",
       "         5.96793020e-01,   1.09213440e+00,   8.38216483e-01,\n",
       "         4.69293175e-01,   4.70715229e-01,   7.39529077e-01,\n",
       "         7.27391915e-01,   9.71554857e-01,   6.11768000e-01,\n",
       "         4.38089288e-01,   6.15970487e-01,   6.98505972e-01,\n",
       "         7.51764412e-01,   3.95152928e-01,   5.73425114e-01,\n",
       "         5.67358569e-01,   5.53358276e-01,   7.82442135e-01,\n",
       "         6.89780524e-01,   7.56500184e-01,   7.05744573e-01,\n",
       "         5.99346820e-01,   4.61833890e-01,   4.97009133e-01,\n",
       "         6.45424593e-01,   7.68743497e-01,   3.96526084e-01,\n",
       "         8.35713492e-01,   7.16645292e-01,   4.44655085e-01,\n",
       "         3.69363171e-01,   3.84739982e-01,   7.37127088e-01,\n",
       "         6.45322500e-01,   3.69581912e-01,   5.29420372e-01,\n",
       "         9.03837830e-01,   8.61534254e-01,  -1.21552599e-01,\n",
       "         4.63155222e-01,   7.69483638e-02,   3.94325821e-01,\n",
       "         2.03215465e-02,   2.39833061e-01,   1.48403507e-01,\n",
       "         6.94253312e-01,   3.48050723e-01,   9.26811715e-01,\n",
       "         5.45779676e-01,  -3.20194940e-02,   2.59466753e-01,\n",
       "        -3.02452032e-01,   2.37632689e-01,  -1.78532058e-01,\n",
       "         4.58402000e-01,   1.87953586e-01,   3.81673442e-01,\n",
       "         3.97150081e-01,  -1.01720499e-01,   2.91876375e-01,\n",
       "         3.59114555e-01,   7.79639463e-02,   1.07811726e-01,\n",
       "         3.04609566e-01,   3.97180762e-01,   8.24145742e-01,\n",
       "        -3.79653619e-01,   2.72619321e-01,  -7.41148342e-02,\n",
       "         2.34774753e-01,   7.96176450e-01,  -9.40258841e-02,\n",
       "        -2.88568745e-02,  -1.89864176e-01,   3.15889088e-02,\n",
       "         7.74512010e-01,   2.30204696e-01,   5.54021824e-01,\n",
       "         6.36179726e-01,   8.25214481e-03,  -2.93185030e-01,\n",
       "         6.27223441e-01,   3.04711213e-01,   8.84026362e-03,\n",
       "         7.55001495e-01,   6.46821158e-01,   2.33326085e-02,\n",
       "         8.02964960e-02,   3.04735874e-01,   3.62201447e-01,\n",
       "         5.35412084e-02,  -3.94645663e-01,   4.08814934e-01,\n",
       "         7.43479931e-01,  -4.51510218e-01,   1.99733695e-01,\n",
       "         5.99401070e-01,   7.44574413e-01,  -1.23826328e-02,\n",
       "        -2.28294126e-01,   6.46093194e-02,   7.59359653e-01,\n",
       "         1.15611905e-01,   1.70047197e-02,   4.58322129e-01,\n",
       "        -8.94630702e-02,   1.68741991e-01,   1.96209011e-01,\n",
       "        -2.16225159e-02,   6.07001554e-01,   8.30560839e-02,\n",
       "        -2.35674554e-01,   2.73353494e-01,   3.04841540e-01,\n",
       "         3.30228642e-01,   4.84198290e-01,  -9.95269440e-02,\n",
       "        -1.44938821e-01,   5.50038156e-01,  -1.71091267e-01,\n",
       "         1.94538151e-01,   4.67143301e-01,   3.91436206e-01,\n",
       "        -1.44032629e-01,   4.57418608e-01,   2.51904700e-01,\n",
       "        -1.53683524e-01,   5.25303492e-01,  -2.10855847e-01,\n",
       "         2.82608212e-01,   5.03634321e-02,   3.36201101e-01,\n",
       "        -5.84224629e-01,   4.50329893e-01,  -5.56752781e-02,\n",
       "         4.05859402e-01,   1.28186371e-01,   6.78930078e-02,\n",
       "         1.25984917e-01,   1.72388132e-01,  -1.09873197e-01,\n",
       "        -1.86677614e-01,   1.75710588e-01,  -3.43642071e-01,\n",
       "         5.76592296e-01,   3.38748819e-01,   3.73681196e-01,\n",
       "         6.52859365e-02,   2.60441333e-01,   1.43717137e-01,\n",
       "        -1.15755210e-01,   7.10846294e-01,   2.46326375e-01,\n",
       "         1.20512713e-01,   2.31434622e-01,   2.89355112e-01,\n",
       "         1.80086402e-01,   7.28226649e-01,   5.91524478e-01,\n",
       "         1.57726016e-01,  -8.27105264e-03,   3.93385916e-01,\n",
       "         5.61095098e-01,  -2.95082517e-01,   4.36629675e-01,\n",
       "         4.04688654e-01,  -9.24799421e-02,  -4.32597205e-02,\n",
       "        -2.10090136e-01,   3.49179658e-01,   2.07833505e-02,\n",
       "         5.27898168e-01,   4.65414427e-02,  -3.10249972e-01,\n",
       "        -2.74658587e-01,   3.89259779e-01,   3.72584688e-01,\n",
       "         5.73269671e-01,   4.52995877e-01,   5.92267562e-01,\n",
       "        -5.70272099e-01,   1.65191426e-01,   8.59171084e-01,\n",
       "         5.48534401e-01,  -4.28543208e-01,   4.53315047e-01,\n",
       "        -8.90782290e-04,   5.62307622e-01,  -2.74630774e-01,\n",
       "         4.15338016e-01,   8.36738885e-01,   3.88823647e-01,\n",
       "         5.01978985e-01,   3.21949422e-01,   7.48759369e-02,\n",
       "         4.31465553e-01,   1.40899187e-02,   2.69369525e-01,\n",
       "         6.57066183e-02,   1.84558997e-01,  -2.15749442e-01,\n",
       "         4.31452197e-01,   5.29280196e-01,  -3.05310516e-02,\n",
       "        -9.12904238e-02,   6.07151723e-02,   1.22995565e-02,\n",
       "        -1.35541821e-02,  -2.15924725e-01,   4.88393883e-01,\n",
       "         2.80907327e-01,   4.41107275e-01,   5.51859737e-02,\n",
       "        -5.24376319e-02,   7.57632385e-01,   4.63217174e-01,\n",
       "         1.76228453e-01,  -1.39814933e-01,   2.54521002e-01,\n",
       "         3.71623619e-01,   8.25428856e-02,   2.44678339e-01,\n",
       "         4.82019206e-01,   1.84714464e-01,   1.64625489e-01,\n",
       "        -2.58872986e-01,   1.65027147e-01,  -1.05025588e-02,\n",
       "         6.15426584e-01,   5.01962341e-03,   3.65836066e-01,\n",
       "         4.43956202e-01,   3.75957237e-02,   1.27017394e-01,\n",
       "         4.54540535e-01,  -1.05654578e-01,  -9.11688112e-03,\n",
       "        -2.18725822e-02])"
      ]
     },
     "execution_count": 10,
     "metadata": {},
     "output_type": "execute_result"
    }
   ],
   "source": [
    "model.predict_proba(X)"
   ]
  },
  {
   "cell_type": "markdown",
   "metadata": {},
   "source": [
    "## Анализ сходимости (2 балл)"
   ]
  },
  {
   "cell_type": "markdown",
   "metadata": {},
   "source": [
    "Покажите сходимость вашего метода: изобразите графики зависимости значения функции потерь (по всей выборке) после очередной итерации/батча/эпохи (выбрать одно) для разных `alpha`."
   ]
  },
  {
   "cell_type": "code",
   "execution_count": 11,
   "metadata": {
    "collapsed": true
   },
   "outputs": [],
   "source": [
    "from math import fabs"
   ]
  },
  {
   "cell_type": "code",
   "execution_count": 12,
   "metadata": {},
   "outputs": [
    {
     "data": {
      "image/png": "[encoded data removed]",
      "text/plain": [
       "<matplotlib.figure.Figure at 0xbe69400>"
      ]
     },
     "metadata": {},
     "output_type": "display_data"
    }
   ],
   "source": [
    "def Losses(X,b,y):\n",
    "    X=np.insert(X,0,1,axis=1)\n",
    "    l=(np.dot(X,b.T)).T\n",
    "    for i in xrange(b.shape[0]):\n",
    "        l[i]-=y\n",
    "        l[i]=l[i]*l[i]\n",
    "    l=np.sum(l,axis=1)\n",
    "    n=np.sqrt(b**2)\n",
    "    n=np.sum(n,axis=1)\n",
    "    return l+n\n",
    "fig = plt.figure(figsize=(14, 7))\n",
    "for alpha in np.arange(0.05,0.4,0.05):\n",
    "    t=range(0,10,1)\n",
    "    model = MySGDClassifier(alpha=alpha,backuping=\"Yes\")\n",
    "    model.fit(X, y)\n",
    "    loss=Losses(X,model.backup,y)\n",
    "    plt.plot(t,loss)\n",
    "    plt.annotate(alpha, xy=(t[9],loss[9]),\n",
    "            arrowprops=dict(facecolor='black', shrink=0.05),\n",
    "            )"
   ]
  },
  {
   "cell_type": "markdown",
   "metadata": {},
   "source": [
    "# Введение в конкурсную задачу"
   ]
  },
  {
   "cell_type": "markdown",
   "metadata": {},
   "source": [
    "## О hearthstone"
   ]
  },
  {
   "cell_type": "markdown",
   "metadata": {},
   "source": [
    "[Hearthstone](http://eu.battle.net/hearthstone/ru/) - карточная он-лайн игра по мотивам вселенной Warcraft.\n",
    "\n",
    "Каждый игрок играет за персонажа определенного класса и собирает колоду карт которую может разыгрывать во время игры. Для дальнейших деталей обратитесь к [wiki](https://ru.wikipedia.org/wiki/Hearthstone), посмотрите youtube или поиграйте сами (но не долго =) ).\n",
    "\n",
    "Теми или иными способами игрок может отнимать жизни у своего оппонента, таким образом цель раунда - побить другого игрока."
   ]
  },
  {
   "cell_type": "markdown",
   "metadata": {},
   "source": [
    "<center><img src='http://ps3hits.ru/wp-content/uploads/2015/08/hearthstone-game-sshot-1.jpg'></center>"
   ]
  },
  {
   "cell_type": "markdown",
   "metadata": {},
   "source": [
    "## Постановка задачи"
   ]
  },
  {
   "cell_type": "markdown",
   "metadata": {},
   "source": [
    "В рамках конференции [AAIA 17](https://fedcsis.org/2017/aaia) было запущено [соревнование](https://knowledgepit.fedcsis.org/contest/view.php?id=120) по предсказанию исхода раунда в heartstone. \n",
    "\n",
    "Используя признаки, которые описывают текущее состояние раунда необходимо предсказать **вероятность** победы игрока в этом раунде.\n",
    "\n",
    "Качество модели измеряется с помощью **ROC-AUC**\n",
    "\n",
    "### Правила\n",
    "* Объединяться в команды по правилам конкурса можно, но по правилам нашего курса - нельзя)\n",
    "* Вы можете использовать любой алгоритм, даже неизученный в нашем курсе (если на защите сможете объяснить как он работает)\n",
    "* Имейте ввиду, что вы должны отправить результаты строго до 14 мая 23:59 GMT на сайт соревнования (раздел submission). Без результата в leaderboard оценка выставлена не будет."
   ]
  },
  {
   "cell_type": "markdown",
   "metadata": {},
   "source": [
    "## Данные\n",
    "\n",
    "Для того, чтобы получить данные необходимо зарегистрироваться на сайте соревнования. \n",
    "\n",
    "Данные содержат набор информации о раунде в некоторый момент времени: жизни игрока и оппонента, номер хода, карты на столе, карты в руке игрока, количество карт в руке оппонента и тп.<br/>\n",
    "По игроку №1 (далее просто **игрок**) помимо всего прочего известен набор карт \"в руке\".</br>\n",
    "По игроку №2 (далее просто **оппонент**) эта информация отсутствует.</br>\n",
    "\n",
    "\n",
    "Данные поставляются в двух форматах:\n",
    "* В формате json содержится полная информация по текущему состоянию раунда\n",
    "* В табличном формате упрощенная аггрерированная информация по текущему состоянию раунда\n",
    "\n",
    "В данных для обучению содержится 2 млн. игр, разбитых на 4 файла. Названия признаков говорят сами за себя.\n",
    "Целевой признак - `decision` (1 - победил игрок, 0 - победил оппонент)."
   ]
  },
  {
   "cell_type": "markdown",
   "metadata": {},
   "source": [
    "## Работа с простыми табличными данными (1 балл)\n",
    "\n",
    "По соображениям сокращения времени вычислений, проделаем основные шаги по одной части данных.\n",
    "\n",
    "Если данные не будут помещаться вам с оперативную память, рекомендуется совершить предобработку в python, а  моделирование выполнять с помощью [vowpal wabbit](https://github.com/JohnLangford/vowpal_wabbit)."
   ]
  },
  {
   "cell_type": "code",
   "execution_count": 30,
   "metadata": {
    "collapsed": true
   },
   "outputs": [],
   "source": [
    "# Загрузка данных целиком\n",
    "# df_list = []\n",
    "# for chunk in range(1,5):\n",
    "#     filepath = './trainingData_tabular_chunk%d.csv' % chunk\n",
    "#     df_list.append(pd.read_csv(filepath, sep=','))\n",
    "\n",
    "# df_data = pd.concat(df_list)\n",
    "\n",
    "# Загрузка одной части данных\n",
    "filepath = './trainingData_tabular_chunk1.csv'\n",
    "df_data = pd.read_csv(filepath, sep=',')"
   ]
  },
  {
   "cell_type": "code",
   "execution_count": 31,
   "metadata": {},
   "outputs": [
    {
     "data": {
      "text/plain": [
       "(500000, 45)"
      ]
     },
     "execution_count": 31,
     "metadata": {},
     "output_type": "execute_result"
    }
   ],
   "source": [
    "df_data.shape"
   ]
  },
  {
   "cell_type": "code",
   "execution_count": 32,
   "metadata": {
    "collapsed": true
   },
   "outputs": [],
   "source": [
    "# для удобства\n",
    "df_data.columns = df_data.columns.str.replace('.', '_')\n",
    "df_data = df_data.set_index('gamestate_id')"
   ]
  },
  {
   "cell_type": "code",
   "execution_count": 7,
   "metadata": {},
   "outputs": [
    {
     "data": {
      "text/html": [
       "<div>\n",
       "<table border=\"1\" class=\"dataframe\">\n",
       "  <thead>\n",
       "    <tr style=\"text-align: right;\">\n",
       "      <th>gamestate_id</th>\n",
       "      <th>4687346</th>\n",
       "      <th>3270826</th>\n",
       "      <th>3189487</th>\n",
       "      <th>4098946</th>\n",
       "      <th>2661127</th>\n",
       "      <th>2993360</th>\n",
       "      <th>4378268</th>\n",
       "      <th>3774658</th>\n",
       "      <th>3956442</th>\n",
       "      <th>2958739</th>\n",
       "    </tr>\n",
       "  </thead>\n",
       "  <tbody>\n",
       "    <tr>\n",
       "      <th>decision</th>\n",
       "      <td>1</td>\n",
       "      <td>1</td>\n",
       "      <td>1</td>\n",
       "      <td>1</td>\n",
       "      <td>0</td>\n",
       "      <td>0</td>\n",
       "      <td>0</td>\n",
       "      <td>1</td>\n",
       "      <td>1</td>\n",
       "      <td>1</td>\n",
       "    </tr>\n",
       "    <tr>\n",
       "      <th>turn</th>\n",
       "      <td>14</td>\n",
       "      <td>7</td>\n",
       "      <td>5</td>\n",
       "      <td>8</td>\n",
       "      <td>13</td>\n",
       "      <td>13</td>\n",
       "      <td>9</td>\n",
       "      <td>2</td>\n",
       "      <td>12</td>\n",
       "      <td>10</td>\n",
       "    </tr>\n",
       "    <tr>\n",
       "      <th>opponent_armor</th>\n",
       "      <td>0</td>\n",
       "      <td>0</td>\n",
       "      <td>3</td>\n",
       "      <td>0</td>\n",
       "      <td>0</td>\n",
       "      <td>0</td>\n",
       "      <td>0</td>\n",
       "      <td>0</td>\n",
       "      <td>2</td>\n",
       "      <td>0</td>\n",
       "    </tr>\n",
       "    <tr>\n",
       "      <th>opponent_attack</th>\n",
       "      <td>0</td>\n",
       "      <td>0</td>\n",
       "      <td>0</td>\n",
       "      <td>0</td>\n",
       "      <td>0</td>\n",
       "      <td>0</td>\n",
       "      <td>0</td>\n",
       "      <td>0</td>\n",
       "      <td>0</td>\n",
       "      <td>0</td>\n",
       "    </tr>\n",
       "    <tr>\n",
       "      <th>opponent_hero_card_id</th>\n",
       "      <td>798</td>\n",
       "      <td>754</td>\n",
       "      <td>612</td>\n",
       "      <td>390</td>\n",
       "      <td>25</td>\n",
       "      <td>612</td>\n",
       "      <td>612</td>\n",
       "      <td>390</td>\n",
       "      <td>1235</td>\n",
       "      <td>1235</td>\n",
       "    </tr>\n",
       "    <tr>\n",
       "      <th>opponent_hp</th>\n",
       "      <td>5</td>\n",
       "      <td>22</td>\n",
       "      <td>29</td>\n",
       "      <td>26</td>\n",
       "      <td>30</td>\n",
       "      <td>26</td>\n",
       "      <td>20</td>\n",
       "      <td>30</td>\n",
       "      <td>18</td>\n",
       "      <td>16</td>\n",
       "    </tr>\n",
       "    <tr>\n",
       "      <th>opponent_special_skill_used</th>\n",
       "      <td>0</td>\n",
       "      <td>0</td>\n",
       "      <td>0</td>\n",
       "      <td>0</td>\n",
       "      <td>0</td>\n",
       "      <td>0</td>\n",
       "      <td>0</td>\n",
       "      <td>0</td>\n",
       "      <td>0</td>\n",
       "      <td>0</td>\n",
       "    </tr>\n",
       "    <tr>\n",
       "      <th>opponent_weapon_durability</th>\n",
       "      <td>0</td>\n",
       "      <td>0</td>\n",
       "      <td>0</td>\n",
       "      <td>0</td>\n",
       "      <td>0</td>\n",
       "      <td>0</td>\n",
       "      <td>0</td>\n",
       "      <td>0</td>\n",
       "      <td>0</td>\n",
       "      <td>0</td>\n",
       "    </tr>\n",
       "    <tr>\n",
       "      <th>opponent_crystals_all</th>\n",
       "      <td>10</td>\n",
       "      <td>6</td>\n",
       "      <td>4</td>\n",
       "      <td>7</td>\n",
       "      <td>10</td>\n",
       "      <td>10</td>\n",
       "      <td>9</td>\n",
       "      <td>1</td>\n",
       "      <td>10</td>\n",
       "      <td>9</td>\n",
       "    </tr>\n",
       "    <tr>\n",
       "      <th>opponent_crystals_current</th>\n",
       "      <td>10</td>\n",
       "      <td>6</td>\n",
       "      <td>1</td>\n",
       "      <td>7</td>\n",
       "      <td>1</td>\n",
       "      <td>3</td>\n",
       "      <td>2</td>\n",
       "      <td>1</td>\n",
       "      <td>2</td>\n",
       "      <td>1</td>\n",
       "    </tr>\n",
       "    <tr>\n",
       "      <th>opponent_deck_count</th>\n",
       "      <td>11</td>\n",
       "      <td>19</td>\n",
       "      <td>22</td>\n",
       "      <td>17</td>\n",
       "      <td>12</td>\n",
       "      <td>10</td>\n",
       "      <td>17</td>\n",
       "      <td>25</td>\n",
       "      <td>13</td>\n",
       "      <td>16</td>\n",
       "    </tr>\n",
       "    <tr>\n",
       "      <th>opponent_fatigue_damage</th>\n",
       "      <td>0</td>\n",
       "      <td>0</td>\n",
       "      <td>0</td>\n",
       "      <td>0</td>\n",
       "      <td>0</td>\n",
       "      <td>0</td>\n",
       "      <td>0</td>\n",
       "      <td>0</td>\n",
       "      <td>0</td>\n",
       "      <td>0</td>\n",
       "    </tr>\n",
       "    <tr>\n",
       "      <th>opponent_hand_count</th>\n",
       "      <td>2</td>\n",
       "      <td>8</td>\n",
       "      <td>4</td>\n",
       "      <td>7</td>\n",
       "      <td>3</td>\n",
       "      <td>4</td>\n",
       "      <td>8</td>\n",
       "      <td>6</td>\n",
       "      <td>2</td>\n",
       "      <td>5</td>\n",
       "    </tr>\n",
       "    <tr>\n",
       "      <th>opponent_played_minions_count</th>\n",
       "      <td>1</td>\n",
       "      <td>1</td>\n",
       "      <td>2</td>\n",
       "      <td>0</td>\n",
       "      <td>4</td>\n",
       "      <td>4</td>\n",
       "      <td>2</td>\n",
       "      <td>0</td>\n",
       "      <td>2</td>\n",
       "      <td>1</td>\n",
       "    </tr>\n",
       "    <tr>\n",
       "      <th>player_armor</th>\n",
       "      <td>0</td>\n",
       "      <td>0</td>\n",
       "      <td>1</td>\n",
       "      <td>0</td>\n",
       "      <td>0</td>\n",
       "      <td>0</td>\n",
       "      <td>0</td>\n",
       "      <td>0</td>\n",
       "      <td>2</td>\n",
       "      <td>0</td>\n",
       "    </tr>\n",
       "    <tr>\n",
       "      <th>player_attack</th>\n",
       "      <td>0</td>\n",
       "      <td>0</td>\n",
       "      <td>0</td>\n",
       "      <td>0</td>\n",
       "      <td>0</td>\n",
       "      <td>4</td>\n",
       "      <td>0</td>\n",
       "      <td>0</td>\n",
       "      <td>0</td>\n",
       "      <td>0</td>\n",
       "    </tr>\n",
       "    <tr>\n",
       "      <th>player_hero_card_id</th>\n",
       "      <td>981</td>\n",
       "      <td>754</td>\n",
       "      <td>612</td>\n",
       "      <td>981</td>\n",
       "      <td>494</td>\n",
       "      <td>981</td>\n",
       "      <td>25</td>\n",
       "      <td>612</td>\n",
       "      <td>1235</td>\n",
       "      <td>754</td>\n",
       "    </tr>\n",
       "    <tr>\n",
       "      <th>player_hp</th>\n",
       "      <td>17</td>\n",
       "      <td>29</td>\n",
       "      <td>30</td>\n",
       "      <td>26</td>\n",
       "      <td>8</td>\n",
       "      <td>8</td>\n",
       "      <td>30</td>\n",
       "      <td>30</td>\n",
       "      <td>26</td>\n",
       "      <td>25</td>\n",
       "    </tr>\n",
       "    <tr>\n",
       "      <th>player_special_skill_used</th>\n",
       "      <td>1</td>\n",
       "      <td>0</td>\n",
       "      <td>0</td>\n",
       "      <td>0</td>\n",
       "      <td>0</td>\n",
       "      <td>0</td>\n",
       "      <td>0</td>\n",
       "      <td>0</td>\n",
       "      <td>0</td>\n",
       "      <td>0</td>\n",
       "    </tr>\n",
       "    <tr>\n",
       "      <th>player_weapon_durability</th>\n",
       "      <td>0</td>\n",
       "      <td>0</td>\n",
       "      <td>0</td>\n",
       "      <td>0</td>\n",
       "      <td>0</td>\n",
       "      <td>1</td>\n",
       "      <td>0</td>\n",
       "      <td>0</td>\n",
       "      <td>0</td>\n",
       "      <td>0</td>\n",
       "    </tr>\n",
       "    <tr>\n",
       "      <th>player_crystals_all</th>\n",
       "      <td>10</td>\n",
       "      <td>7</td>\n",
       "      <td>6</td>\n",
       "      <td>8</td>\n",
       "      <td>10</td>\n",
       "      <td>10</td>\n",
       "      <td>9</td>\n",
       "      <td>2</td>\n",
       "      <td>10</td>\n",
       "      <td>10</td>\n",
       "    </tr>\n",
       "    <tr>\n",
       "      <th>player_crystals_current</th>\n",
       "      <td>0</td>\n",
       "      <td>0</td>\n",
       "      <td>5</td>\n",
       "      <td>8</td>\n",
       "      <td>10</td>\n",
       "      <td>0</td>\n",
       "      <td>9</td>\n",
       "      <td>2</td>\n",
       "      <td>10</td>\n",
       "      <td>2</td>\n",
       "    </tr>\n",
       "    <tr>\n",
       "      <th>player_deck_count</th>\n",
       "      <td>12</td>\n",
       "      <td>18</td>\n",
       "      <td>22</td>\n",
       "      <td>19</td>\n",
       "      <td>14</td>\n",
       "      <td>14</td>\n",
       "      <td>17</td>\n",
       "      <td>25</td>\n",
       "      <td>15</td>\n",
       "      <td>16</td>\n",
       "    </tr>\n",
       "    <tr>\n",
       "      <th>player_fatigue_damage</th>\n",
       "      <td>0</td>\n",
       "      <td>0</td>\n",
       "      <td>0</td>\n",
       "      <td>0</td>\n",
       "      <td>0</td>\n",
       "      <td>0</td>\n",
       "      <td>0</td>\n",
       "      <td>0</td>\n",
       "      <td>0</td>\n",
       "      <td>0</td>\n",
       "    </tr>\n",
       "    <tr>\n",
       "      <th>player_hand_count</th>\n",
       "      <td>5</td>\n",
       "      <td>7</td>\n",
       "      <td>5</td>\n",
       "      <td>9</td>\n",
       "      <td>4</td>\n",
       "      <td>5</td>\n",
       "      <td>6</td>\n",
       "      <td>5</td>\n",
       "      <td>4</td>\n",
       "      <td>2</td>\n",
       "    </tr>\n",
       "    <tr>\n",
       "      <th>player_played_minions_count</th>\n",
       "      <td>5</td>\n",
       "      <td>5</td>\n",
       "      <td>0</td>\n",
       "      <td>1</td>\n",
       "      <td>1</td>\n",
       "      <td>2</td>\n",
       "      <td>2</td>\n",
       "      <td>0</td>\n",
       "      <td>1</td>\n",
       "      <td>5</td>\n",
       "    </tr>\n",
       "    <tr>\n",
       "      <th>opponent_played_nOfCards</th>\n",
       "      <td>1</td>\n",
       "      <td>1</td>\n",
       "      <td>2</td>\n",
       "      <td>0</td>\n",
       "      <td>4</td>\n",
       "      <td>4</td>\n",
       "      <td>2</td>\n",
       "      <td>0</td>\n",
       "      <td>2</td>\n",
       "      <td>1</td>\n",
       "    </tr>\n",
       "    <tr>\n",
       "      <th>opponent_played_attack</th>\n",
       "      <td>2</td>\n",
       "      <td>2</td>\n",
       "      <td>8</td>\n",
       "      <td>0</td>\n",
       "      <td>15</td>\n",
       "      <td>18</td>\n",
       "      <td>13</td>\n",
       "      <td>0</td>\n",
       "      <td>8</td>\n",
       "      <td>6</td>\n",
       "    </tr>\n",
       "    <tr>\n",
       "      <th>opponent_played_crystals_cost</th>\n",
       "      <td>4</td>\n",
       "      <td>4</td>\n",
       "      <td>5</td>\n",
       "      <td>0</td>\n",
       "      <td>14</td>\n",
       "      <td>19</td>\n",
       "      <td>13</td>\n",
       "      <td>0</td>\n",
       "      <td>8</td>\n",
       "      <td>6</td>\n",
       "    </tr>\n",
       "    <tr>\n",
       "      <th>opponent_played_hp_current</th>\n",
       "      <td>6</td>\n",
       "      <td>2</td>\n",
       "      <td>8</td>\n",
       "      <td>0</td>\n",
       "      <td>16</td>\n",
       "      <td>12</td>\n",
       "      <td>9</td>\n",
       "      <td>0</td>\n",
       "      <td>10</td>\n",
       "      <td>7</td>\n",
       "    </tr>\n",
       "    <tr>\n",
       "      <th>opponent_played_hp_max</th>\n",
       "      <td>8</td>\n",
       "      <td>4</td>\n",
       "      <td>8</td>\n",
       "      <td>0</td>\n",
       "      <td>16</td>\n",
       "      <td>20</td>\n",
       "      <td>14</td>\n",
       "      <td>0</td>\n",
       "      <td>10</td>\n",
       "      <td>7</td>\n",
       "    </tr>\n",
       "    <tr>\n",
       "      <th>player_played_nOfCards</th>\n",
       "      <td>5</td>\n",
       "      <td>5</td>\n",
       "      <td>0</td>\n",
       "      <td>1</td>\n",
       "      <td>1</td>\n",
       "      <td>2</td>\n",
       "      <td>2</td>\n",
       "      <td>0</td>\n",
       "      <td>1</td>\n",
       "      <td>5</td>\n",
       "    </tr>\n",
       "    <tr>\n",
       "      <th>player_played_attack</th>\n",
       "      <td>21</td>\n",
       "      <td>10</td>\n",
       "      <td>0</td>\n",
       "      <td>3</td>\n",
       "      <td>6</td>\n",
       "      <td>9</td>\n",
       "      <td>6</td>\n",
       "      <td>0</td>\n",
       "      <td>6</td>\n",
       "      <td>16</td>\n",
       "    </tr>\n",
       "    <tr>\n",
       "      <th>player_played_crystals_cost</th>\n",
       "      <td>20</td>\n",
       "      <td>16</td>\n",
       "      <td>0</td>\n",
       "      <td>2</td>\n",
       "      <td>6</td>\n",
       "      <td>8</td>\n",
       "      <td>8</td>\n",
       "      <td>0</td>\n",
       "      <td>7</td>\n",
       "      <td>16</td>\n",
       "    </tr>\n",
       "    <tr>\n",
       "      <th>player_played_hp_current</th>\n",
       "      <td>20</td>\n",
       "      <td>16</td>\n",
       "      <td>0</td>\n",
       "      <td>2</td>\n",
       "      <td>7</td>\n",
       "      <td>9</td>\n",
       "      <td>8</td>\n",
       "      <td>0</td>\n",
       "      <td>2</td>\n",
       "      <td>18</td>\n",
       "    </tr>\n",
       "    <tr>\n",
       "      <th>player_played_hp_max</th>\n",
       "      <td>23</td>\n",
       "      <td>17</td>\n",
       "      <td>0</td>\n",
       "      <td>2</td>\n",
       "      <td>7</td>\n",
       "      <td>9</td>\n",
       "      <td>8</td>\n",
       "      <td>0</td>\n",
       "      <td>6</td>\n",
       "      <td>19</td>\n",
       "    </tr>\n",
       "    <tr>\n",
       "      <th>player_hand_nOfMinions</th>\n",
       "      <td>4</td>\n",
       "      <td>3</td>\n",
       "      <td>5</td>\n",
       "      <td>7</td>\n",
       "      <td>4</td>\n",
       "      <td>5</td>\n",
       "      <td>5</td>\n",
       "      <td>4</td>\n",
       "      <td>2</td>\n",
       "      <td>2</td>\n",
       "    </tr>\n",
       "    <tr>\n",
       "      <th>player_hand_nOfSpells</th>\n",
       "      <td>0</td>\n",
       "      <td>2</td>\n",
       "      <td>0</td>\n",
       "      <td>1</td>\n",
       "      <td>0</td>\n",
       "      <td>0</td>\n",
       "      <td>1</td>\n",
       "      <td>1</td>\n",
       "      <td>1</td>\n",
       "      <td>0</td>\n",
       "    </tr>\n",
       "    <tr>\n",
       "      <th>player_hand_nOfWeapons</th>\n",
       "      <td>1</td>\n",
       "      <td>2</td>\n",
       "      <td>0</td>\n",
       "      <td>1</td>\n",
       "      <td>0</td>\n",
       "      <td>0</td>\n",
       "      <td>0</td>\n",
       "      <td>0</td>\n",
       "      <td>1</td>\n",
       "      <td>0</td>\n",
       "    </tr>\n",
       "    <tr>\n",
       "      <th>player_hand_nOfCards</th>\n",
       "      <td>5</td>\n",
       "      <td>7</td>\n",
       "      <td>5</td>\n",
       "      <td>9</td>\n",
       "      <td>4</td>\n",
       "      <td>5</td>\n",
       "      <td>6</td>\n",
       "      <td>5</td>\n",
       "      <td>4</td>\n",
       "      <td>2</td>\n",
       "    </tr>\n",
       "    <tr>\n",
       "      <th>player_hand_nOfPlayable</th>\n",
       "      <td>0</td>\n",
       "      <td>0</td>\n",
       "      <td>2</td>\n",
       "      <td>9</td>\n",
       "      <td>4</td>\n",
       "      <td>0</td>\n",
       "      <td>6</td>\n",
       "      <td>1</td>\n",
       "      <td>4</td>\n",
       "      <td>0</td>\n",
       "    </tr>\n",
       "    <tr>\n",
       "      <th>player_hand_attack</th>\n",
       "      <td>20</td>\n",
       "      <td>17</td>\n",
       "      <td>26</td>\n",
       "      <td>36</td>\n",
       "      <td>13</td>\n",
       "      <td>19</td>\n",
       "      <td>23</td>\n",
       "      <td>22</td>\n",
       "      <td>12</td>\n",
       "      <td>5</td>\n",
       "    </tr>\n",
       "    <tr>\n",
       "      <th>player_hand_crystals_cost</th>\n",
       "      <td>22</td>\n",
       "      <td>26</td>\n",
       "      <td>28</td>\n",
       "      <td>44</td>\n",
       "      <td>13</td>\n",
       "      <td>25</td>\n",
       "      <td>30</td>\n",
       "      <td>25</td>\n",
       "      <td>15</td>\n",
       "      <td>7</td>\n",
       "    </tr>\n",
       "    <tr>\n",
       "      <th>player_hand_hp</th>\n",
       "      <td>17</td>\n",
       "      <td>20</td>\n",
       "      <td>27</td>\n",
       "      <td>36</td>\n",
       "      <td>14</td>\n",
       "      <td>25</td>\n",
       "      <td>23</td>\n",
       "      <td>25</td>\n",
       "      <td>10</td>\n",
       "      <td>6</td>\n",
       "    </tr>\n",
       "  </tbody>\n",
       "</table>\n",
       "</div>"
      ],
      "text/plain": [
       "gamestate_id                   4687346  3270826  3189487  4098946  2661127  \\\n",
       "decision                             1        1        1        1        0   \n",
       "turn                                14        7        5        8       13   \n",
       "opponent_armor                       0        0        3        0        0   \n",
       "opponent_attack                      0        0        0        0        0   \n",
       "opponent_hero_card_id              798      754      612      390       25   \n",
       "opponent_hp                          5       22       29       26       30   \n",
       "opponent_special_skill_used          0        0        0        0        0   \n",
       "opponent_weapon_durability           0        0        0        0        0   \n",
       "opponent_crystals_all               10        6        4        7       10   \n",
       "opponent_crystals_current           10        6        1        7        1   \n",
       "opponent_deck_count                 11       19       22       17       12   \n",
       "opponent_fatigue_damage              0        0        0        0        0   \n",
       "opponent_hand_count                  2        8        4        7        3   \n",
       "opponent_played_minions_count        1        1        2        0        4   \n",
       "player_armor                         0        0        1        0        0   \n",
       "player_attack                        0        0        0        0        0   \n",
       "player_hero_card_id                981      754      612      981      494   \n",
       "player_hp                           17       29       30       26        8   \n",
       "player_special_skill_used            1        0        0        0        0   \n",
       "player_weapon_durability             0        0        0        0        0   \n",
       "player_crystals_all                 10        7        6        8       10   \n",
       "player_crystals_current              0        0        5        8       10   \n",
       "player_deck_count                   12       18       22       19       14   \n",
       "player_fatigue_damage                0        0        0        0        0   \n",
       "player_hand_count                    5        7        5        9        4   \n",
       "player_played_minions_count          5        5        0        1        1   \n",
       "opponent_played_nOfCards             1        1        2        0        4   \n",
       "opponent_played_attack               2        2        8        0       15   \n",
       "opponent_played_crystals_cost        4        4        5        0       14   \n",
       "opponent_played_hp_current           6        2        8        0       16   \n",
       "opponent_played_hp_max               8        4        8        0       16   \n",
       "player_played_nOfCards               5        5        0        1        1   \n",
       "player_played_attack                21       10        0        3        6   \n",
       "player_played_crystals_cost         20       16        0        2        6   \n",
       "player_played_hp_current            20       16        0        2        7   \n",
       "player_played_hp_max                23       17        0        2        7   \n",
       "player_hand_nOfMinions               4        3        5        7        4   \n",
       "player_hand_nOfSpells                0        2        0        1        0   \n",
       "player_hand_nOfWeapons               1        2        0        1        0   \n",
       "player_hand_nOfCards                 5        7        5        9        4   \n",
       "player_hand_nOfPlayable              0        0        2        9        4   \n",
       "player_hand_attack                  20       17       26       36       13   \n",
       "player_hand_crystals_cost           22       26       28       44       13   \n",
       "player_hand_hp                      17       20       27       36       14   \n",
       "\n",
       "gamestate_id                   2993360  4378268  3774658  3956442  2958739  \n",
       "decision                             0        0        1        1        1  \n",
       "turn                                13        9        2       12       10  \n",
       "opponent_armor                       0        0        0        2        0  \n",
       "opponent_attack                      0        0        0        0        0  \n",
       "opponent_hero_card_id              612      612      390     1235     1235  \n",
       "opponent_hp                         26       20       30       18       16  \n",
       "opponent_special_skill_used          0        0        0        0        0  \n",
       "opponent_weapon_durability           0        0        0        0        0  \n",
       "opponent_crystals_all               10        9        1       10        9  \n",
       "opponent_crystals_current            3        2        1        2        1  \n",
       "opponent_deck_count                 10       17       25       13       16  \n",
       "opponent_fatigue_damage              0        0        0        0        0  \n",
       "opponent_hand_count                  4        8        6        2        5  \n",
       "opponent_played_minions_count        4        2        0        2        1  \n",
       "player_armor                         0        0        0        2        0  \n",
       "player_attack                        4        0        0        0        0  \n",
       "player_hero_card_id                981       25      612     1235      754  \n",
       "player_hp                            8       30       30       26       25  \n",
       "player_special_skill_used            0        0        0        0        0  \n",
       "player_weapon_durability             1        0        0        0        0  \n",
       "player_crystals_all                 10        9        2       10       10  \n",
       "player_crystals_current              0        9        2       10        2  \n",
       "player_deck_count                   14       17       25       15       16  \n",
       "player_fatigue_damage                0        0        0        0        0  \n",
       "player_hand_count                    5        6        5        4        2  \n",
       "player_played_minions_count          2        2        0        1        5  \n",
       "opponent_played_nOfCards             4        2        0        2        1  \n",
       "opponent_played_attack              18       13        0        8        6  \n",
       "opponent_played_crystals_cost       19       13        0        8        6  \n",
       "opponent_played_hp_current          12        9        0       10        7  \n",
       "opponent_played_hp_max              20       14        0       10        7  \n",
       "player_played_nOfCards               2        2        0        1        5  \n",
       "player_played_attack                 9        6        0        6       16  \n",
       "player_played_crystals_cost          8        8        0        7       16  \n",
       "player_played_hp_current             9        8        0        2       18  \n",
       "player_played_hp_max                 9        8        0        6       19  \n",
       "player_hand_nOfMinions               5        5        4        2        2  \n",
       "player_hand_nOfSpells                0        1        1        1        0  \n",
       "player_hand_nOfWeapons               0        0        0        1        0  \n",
       "player_hand_nOfCards                 5        6        5        4        2  \n",
       "player_hand_nOfPlayable              0        6        1        4        0  \n",
       "player_hand_attack                  19       23       22       12        5  \n",
       "player_hand_crystals_cost           25       30       25       15        7  \n",
       "player_hand_hp                      25       23       25       10        6  "
      ]
     },
     "execution_count": 7,
     "metadata": {},
     "output_type": "execute_result"
    }
   ],
   "source": [
    "df_data.head(n=10).T"
   ]
  },
  {
   "cell_type": "code",
   "execution_count": 33,
   "metadata": {},
   "outputs": [
    {
     "data": {
      "text/plain": [
       "0.504702"
      ]
     },
     "execution_count": 33,
     "metadata": {},
     "output_type": "execute_result"
    }
   ],
   "source": [
    "# Распределение классов\n",
    "df_data.decision.mean()\n",
    "\n",
    "# Примерно поровну"
   ]
  },
  {
   "cell_type": "markdown",
   "metadata": {},
   "source": [
    "#### Задание\n",
    "\n",
    "* Определите количество уникальных карт героя у игрока и оппонента.\n",
    "* Преобразуйте категориальные переменные с помощьб one-hot кодирования, добавьте к датасету и удалите прежние столбцы"
   ]
  },
  {
   "cell_type": "code",
   "execution_count": 34,
   "metadata": {},
   "outputs": [
    {
     "data": {
      "text/plain": [
       "9"
      ]
     },
     "execution_count": 34,
     "metadata": {},
     "output_type": "execute_result"
    }
   ],
   "source": [
    "df_data[\"player_hero_card_id\"].nunique()"
   ]
  },
  {
   "cell_type": "code",
   "execution_count": 35,
   "metadata": {},
   "outputs": [
    {
     "data": {
      "text/plain": [
       "9"
      ]
     },
     "execution_count": 35,
     "metadata": {},
     "output_type": "execute_result"
    }
   ],
   "source": [
    "df_data[\"opponent_hero_card_id\"].nunique()"
   ]
  },
  {
   "cell_type": "code",
   "execution_count": 36,
   "metadata": {
    "collapsed": true
   },
   "outputs": [],
   "source": [
    "df_data.index=range(0,df_data.shape[0])"
   ]
  },
  {
   "cell_type": "code",
   "execution_count": 37,
   "metadata": {
    "collapsed": true
   },
   "outputs": [],
   "source": [
    "from sklearn.preprocessing import OneHotEncoder"
   ]
  },
  {
   "cell_type": "code",
   "execution_count": 38,
   "metadata": {
    "collapsed": true
   },
   "outputs": [],
   "source": [
    "one=OneHotEncoder(sparse=False)"
   ]
  },
  {
   "cell_type": "code",
   "execution_count": 39,
   "metadata": {
    "collapsed": true
   },
   "outputs": [],
   "source": [
    "new_features=one.fit_transform(df_data[\"player_hero_card_id\"].values.reshape(-1,1))\n",
    "tmp=pd.DataFrame(data=new_features,columns=['hero_card' + str(i) for i in range(new_features.shape[1])])\n",
    "newdata=pd.concat([df_data,tmp],axis=1)"
   ]
  },
  {
   "cell_type": "code",
   "execution_count": 40,
   "metadata": {
    "collapsed": true
   },
   "outputs": [],
   "source": [
    "df_data=newdata"
   ]
  },
  {
   "cell_type": "code",
   "execution_count": 41,
   "metadata": {
    "collapsed": true
   },
   "outputs": [],
   "source": [
    "new_features=one.fit_transform(df_data[\"opponent_hero_card_id\"].values.reshape(-1,1))\n",
    "tmp=pd.DataFrame(data=new_features,columns=['opp_hero_card' + str(i) for i in range(new_features.shape[1])])\n",
    "newdata=pd.concat([df_data,tmp],axis=1)"
   ]
  },
  {
   "cell_type": "code",
   "execution_count": 42,
   "metadata": {
    "collapsed": true
   },
   "outputs": [],
   "source": [
    "df_data=newdata"
   ]
  },
  {
   "cell_type": "code",
   "execution_count": 43,
   "metadata": {
    "collapsed": true
   },
   "outputs": [],
   "source": [
    "del df_data[\"player_hero_card_id\"]"
   ]
  },
  {
   "cell_type": "code",
   "execution_count": 44,
   "metadata": {
    "collapsed": true
   },
   "outputs": [],
   "source": [
    "del df_data[\"opponent_hero_card_id\"]"
   ]
  },
  {
   "cell_type": "code",
   "execution_count": 45,
   "metadata": {},
   "outputs": [
    {
     "data": {
      "text/html": [
       "<div>\n",
       "<table border=\"1\" class=\"dataframe\">\n",
       "  <thead>\n",
       "    <tr style=\"text-align: right;\">\n",
       "      <th></th>\n",
       "      <th>decision</th>\n",
       "      <th>turn</th>\n",
       "      <th>opponent_armor</th>\n",
       "      <th>opponent_attack</th>\n",
       "      <th>opponent_hp</th>\n",
       "      <th>opponent_special_skill_used</th>\n",
       "      <th>opponent_weapon_durability</th>\n",
       "      <th>opponent_crystals_all</th>\n",
       "      <th>opponent_crystals_current</th>\n",
       "      <th>opponent_deck_count</th>\n",
       "      <th>...</th>\n",
       "      <th>hero_card8</th>\n",
       "      <th>opp_hero_card0</th>\n",
       "      <th>opp_hero_card1</th>\n",
       "      <th>opp_hero_card2</th>\n",
       "      <th>opp_hero_card3</th>\n",
       "      <th>opp_hero_card4</th>\n",
       "      <th>opp_hero_card5</th>\n",
       "      <th>opp_hero_card6</th>\n",
       "      <th>opp_hero_card7</th>\n",
       "      <th>opp_hero_card8</th>\n",
       "    </tr>\n",
       "  </thead>\n",
       "  <tbody>\n",
       "    <tr>\n",
       "      <th>0</th>\n",
       "      <td>1</td>\n",
       "      <td>14</td>\n",
       "      <td>0</td>\n",
       "      <td>0</td>\n",
       "      <td>5</td>\n",
       "      <td>0</td>\n",
       "      <td>0</td>\n",
       "      <td>10</td>\n",
       "      <td>10</td>\n",
       "      <td>11</td>\n",
       "      <td>...</td>\n",
       "      <td>0.0</td>\n",
       "      <td>0.0</td>\n",
       "      <td>0.0</td>\n",
       "      <td>0.0</td>\n",
       "      <td>0.0</td>\n",
       "      <td>0.0</td>\n",
       "      <td>0.0</td>\n",
       "      <td>1.0</td>\n",
       "      <td>0.0</td>\n",
       "      <td>0.0</td>\n",
       "    </tr>\n",
       "    <tr>\n",
       "      <th>1</th>\n",
       "      <td>1</td>\n",
       "      <td>7</td>\n",
       "      <td>0</td>\n",
       "      <td>0</td>\n",
       "      <td>22</td>\n",
       "      <td>0</td>\n",
       "      <td>0</td>\n",
       "      <td>6</td>\n",
       "      <td>6</td>\n",
       "      <td>19</td>\n",
       "      <td>...</td>\n",
       "      <td>0.0</td>\n",
       "      <td>0.0</td>\n",
       "      <td>0.0</td>\n",
       "      <td>0.0</td>\n",
       "      <td>0.0</td>\n",
       "      <td>0.0</td>\n",
       "      <td>1.0</td>\n",
       "      <td>0.0</td>\n",
       "      <td>0.0</td>\n",
       "      <td>0.0</td>\n",
       "    </tr>\n",
       "    <tr>\n",
       "      <th>2</th>\n",
       "      <td>1</td>\n",
       "      <td>5</td>\n",
       "      <td>3</td>\n",
       "      <td>0</td>\n",
       "      <td>29</td>\n",
       "      <td>0</td>\n",
       "      <td>0</td>\n",
       "      <td>4</td>\n",
       "      <td>1</td>\n",
       "      <td>22</td>\n",
       "      <td>...</td>\n",
       "      <td>0.0</td>\n",
       "      <td>0.0</td>\n",
       "      <td>0.0</td>\n",
       "      <td>0.0</td>\n",
       "      <td>0.0</td>\n",
       "      <td>1.0</td>\n",
       "      <td>0.0</td>\n",
       "      <td>0.0</td>\n",
       "      <td>0.0</td>\n",
       "      <td>0.0</td>\n",
       "    </tr>\n",
       "    <tr>\n",
       "      <th>3</th>\n",
       "      <td>1</td>\n",
       "      <td>8</td>\n",
       "      <td>0</td>\n",
       "      <td>0</td>\n",
       "      <td>26</td>\n",
       "      <td>0</td>\n",
       "      <td>0</td>\n",
       "      <td>7</td>\n",
       "      <td>7</td>\n",
       "      <td>17</td>\n",
       "      <td>...</td>\n",
       "      <td>0.0</td>\n",
       "      <td>0.0</td>\n",
       "      <td>0.0</td>\n",
       "      <td>1.0</td>\n",
       "      <td>0.0</td>\n",
       "      <td>0.0</td>\n",
       "      <td>0.0</td>\n",
       "      <td>0.0</td>\n",
       "      <td>0.0</td>\n",
       "      <td>0.0</td>\n",
       "    </tr>\n",
       "    <tr>\n",
       "      <th>4</th>\n",
       "      <td>0</td>\n",
       "      <td>13</td>\n",
       "      <td>0</td>\n",
       "      <td>0</td>\n",
       "      <td>30</td>\n",
       "      <td>0</td>\n",
       "      <td>0</td>\n",
       "      <td>10</td>\n",
       "      <td>1</td>\n",
       "      <td>12</td>\n",
       "      <td>...</td>\n",
       "      <td>0.0</td>\n",
       "      <td>1.0</td>\n",
       "      <td>0.0</td>\n",
       "      <td>0.0</td>\n",
       "      <td>0.0</td>\n",
       "      <td>0.0</td>\n",
       "      <td>0.0</td>\n",
       "      <td>0.0</td>\n",
       "      <td>0.0</td>\n",
       "      <td>0.0</td>\n",
       "    </tr>\n",
       "  </tbody>\n",
       "</table>\n",
       "<p>5 rows × 60 columns</p>\n",
       "</div>"
      ],
      "text/plain": [
       "   decision  turn  opponent_armor  opponent_attack  opponent_hp  \\\n",
       "0         1    14               0                0            5   \n",
       "1         1     7               0                0           22   \n",
       "2         1     5               3                0           29   \n",
       "3         1     8               0                0           26   \n",
       "4         0    13               0                0           30   \n",
       "\n",
       "   opponent_special_skill_used  opponent_weapon_durability  \\\n",
       "0                            0                           0   \n",
       "1                            0                           0   \n",
       "2                            0                           0   \n",
       "3                            0                           0   \n",
       "4                            0                           0   \n",
       "\n",
       "   opponent_crystals_all  opponent_crystals_current  opponent_deck_count  \\\n",
       "0                     10                         10                   11   \n",
       "1                      6                          6                   19   \n",
       "2                      4                          1                   22   \n",
       "3                      7                          7                   17   \n",
       "4                     10                          1                   12   \n",
       "\n",
       "        ...        hero_card8  opp_hero_card0  opp_hero_card1  opp_hero_card2  \\\n",
       "0       ...               0.0             0.0             0.0             0.0   \n",
       "1       ...               0.0             0.0             0.0             0.0   \n",
       "2       ...               0.0             0.0             0.0             0.0   \n",
       "3       ...               0.0             0.0             0.0             1.0   \n",
       "4       ...               0.0             1.0             0.0             0.0   \n",
       "\n",
       "   opp_hero_card3  opp_hero_card4  opp_hero_card5  opp_hero_card6  \\\n",
       "0             0.0             0.0             0.0             1.0   \n",
       "1             0.0             0.0             1.0             0.0   \n",
       "2             0.0             1.0             0.0             0.0   \n",
       "3             0.0             0.0             0.0             0.0   \n",
       "4             0.0             0.0             0.0             0.0   \n",
       "\n",
       "   opp_hero_card7  opp_hero_card8  \n",
       "0             0.0             0.0  \n",
       "1             0.0             0.0  \n",
       "2             0.0             0.0  \n",
       "3             0.0             0.0  \n",
       "4             0.0             0.0  \n",
       "\n",
       "[5 rows x 60 columns]"
      ]
     },
     "execution_count": 45,
     "metadata": {},
     "output_type": "execute_result"
    }
   ],
   "source": [
    "df_data.head()"
   ]
  },
  {
   "cell_type": "markdown",
   "metadata": {},
   "source": [
    "## Обучение модели (1 балл)"
   ]
  },
  {
   "cell_type": "markdown",
   "metadata": {},
   "source": [
    "#### Задание\n",
    "\n",
    "* Получите матрицу объект признак `X` и вектор целевого признака `y`\n",
    "* Обучите модуль из первой части этого ДЗ на данных"
   ]
  },
  {
   "cell_type": "code",
   "execution_count": 46,
   "metadata": {
    "collapsed": true
   },
   "outputs": [],
   "source": [
    "y=df_data[\"decision\"].values"
   ]
  },
  {
   "cell_type": "code",
   "execution_count": 47,
   "metadata": {
    "collapsed": true
   },
   "outputs": [],
   "source": [
    "properties=df_data.columns\n",
    "s=properties.tolist()\n",
    "s.remove('decision')"
   ]
  },
  {
   "cell_type": "code",
   "execution_count": 48,
   "metadata": {
    "collapsed": true
   },
   "outputs": [],
   "source": [
    "X=df_data[s].values"
   ]
  },
  {
   "cell_type": "code",
   "execution_count": 49,
   "metadata": {},
   "outputs": [
    {
     "data": {
      "text/plain": [
       "MySGDClassifier(C=1, alpha=0.01, backuping='No', max_epoch=10,\n",
       "        random_state=12)"
      ]
     },
     "execution_count": 49,
     "metadata": {},
     "output_type": "execute_result"
    }
   ],
   "source": [
    "model = MySGDClassifier()\n",
    "model.fit(X, y)"
   ]
  },
  {
   "cell_type": "markdown",
   "metadata": {},
   "source": [
    "## Применение модели (3 балла)\n",
    "#### Задание\n",
    "* Загрузите тестовые данные\n",
    "* Выполните те же операции с датасетом, что и с обучающей выборкой\n",
    "* Примените модель и загрузите решение на страницу конкурса\n",
    "* Напечатайте ваш ник и оценку качества, полученную после загрузки\n",
    "\n",
    "Судя по описанию, submission file должен состоять из одного столбца с числами, соответствующим вероятностям победы игрока."
   ]
  },
  {
   "cell_type": "code",
   "execution_count": 106,
   "metadata": {
    "collapsed": true
   },
   "outputs": [],
   "source": [
    "filepath = './testData_tabular.csv'\n",
    "df_data = pd.read_csv(filepath, sep=',')"
   ]
  },
  {
   "cell_type": "code",
   "execution_count": 107,
   "metadata": {},
   "outputs": [
    {
     "data": {
      "text/plain": [
       "(750000, 45)"
      ]
     },
     "execution_count": 107,
     "metadata": {},
     "output_type": "execute_result"
    }
   ],
   "source": [
    "df_data.shape"
   ]
  },
  {
   "cell_type": "code",
   "execution_count": 91,
   "metadata": {
    "collapsed": true
   },
   "outputs": [],
   "source": [
    "# для удобства\n",
    "df_data.columns = df_data.columns.str.replace('.', '_')\n",
    "df_data = df_data.set_index('gamestate_id')"
   ]
  },
  {
   "cell_type": "code",
   "execution_count": 92,
   "metadata": {
    "collapsed": true
   },
   "outputs": [],
   "source": [
    "df_data.index=range(0,df_data.shape[0])"
   ]
  },
  {
   "cell_type": "code",
   "execution_count": 93,
   "metadata": {
    "collapsed": true
   },
   "outputs": [],
   "source": [
    "new_features=one.fit_transform(df_data[\"player_hero_card_id\"].values.reshape(-1,1))\n",
    "tmp=pd.DataFrame(data=new_features,columns=['hero_card' + str(i) for i in range(new_features.shape[1])])"
   ]
  },
  {
   "cell_type": "code",
   "execution_count": 94,
   "metadata": {
    "collapsed": true
   },
   "outputs": [],
   "source": [
    "newdata=pd.concat([df_data,tmp],axis=1,join='inner')\n",
    "df_data=newdata"
   ]
  },
  {
   "cell_type": "code",
   "execution_count": 95,
   "metadata": {
    "collapsed": true
   },
   "outputs": [],
   "source": [
    "new_features=one.fit_transform(df_data[\"opponent_hero_card_id\"].values.reshape(-1,1))\n",
    "tmp=pd.DataFrame(data=new_features,columns=['opp_hero_card' + str(i) for i in range(new_features.shape[1])])\n",
    "newdata=pd.concat([df_data,tmp],axis=1)"
   ]
  },
  {
   "cell_type": "code",
   "execution_count": 96,
   "metadata": {
    "collapsed": true
   },
   "outputs": [],
   "source": [
    "df_data=newdata"
   ]
  },
  {
   "cell_type": "code",
   "execution_count": 97,
   "metadata": {
    "collapsed": true
   },
   "outputs": [],
   "source": [
    "del df_data[\"player_hero_card_id\"]\n",
    "del df_data[\"opponent_hero_card_id\"]"
   ]
  },
  {
   "cell_type": "code",
   "execution_count": 98,
   "metadata": {
    "collapsed": true
   },
   "outputs": [],
   "source": [
    "properties=df_data.columns\n",
    "s=properties.tolist()\n",
    "s.remove('decision')"
   ]
  },
  {
   "cell_type": "code",
   "execution_count": 99,
   "metadata": {
    "collapsed": true
   },
   "outputs": [],
   "source": [
    "X=df_data[s].values"
   ]
  },
  {
   "cell_type": "code",
   "execution_count": 100,
   "metadata": {},
   "outputs": [
    {
     "data": {
      "text/plain": [
       "array([[ 12.,   0.,   0., ...,   1.,   0.,   0.],\n",
       "       [  6.,   0.,   0., ...,   0.,   0.,   0.],\n",
       "       [ 14.,   0.,   0., ...,   0.,   0.,   0.],\n",
       "       ..., \n",
       "       [  7.,   2.,   3., ...,   0.,   0.,   1.],\n",
       "       [ 10.,   0.,   0., ...,   0.,   0.,   0.],\n",
       "       [  5.,   0.,   0., ...,   0.,   0.,   0.]])"
      ]
     },
     "execution_count": 100,
     "metadata": {},
     "output_type": "execute_result"
    }
   ],
   "source": [
    "X"
   ]
  },
  {
   "cell_type": "code",
   "execution_count": 101,
   "metadata": {
    "collapsed": true
   },
   "outputs": [],
   "source": [
    "y=model.predict_proba(X)"
   ]
  },
  {
   "cell_type": "code",
   "execution_count": 114,
   "metadata": {
    "collapsed": true
   },
   "outputs": [],
   "source": [
    "np.savetxt(fname=\"therewasanattempt.txt\",X=y,fmt=\"%5.5f\")"
   ]
  },
  {
   "cell_type": "code",
   "execution_count": 104,
   "metadata": {},
   "outputs": [
    {
     "data": {
      "text/plain": [
       "(750000L,)"
      ]
     },
     "execution_count": 104,
     "metadata": {},
     "output_type": "execute_result"
    }
   ],
   "source": [
    "y.shape"
   ]
  }
 ],
 "metadata": {
  "anaconda-cloud": {},
  "kernelspec": {
   "display_name": "Python 2",
   "language": "python",
   "name": "python2"
  },
  "language_info": {
   "codemirror_mode": {
    "name": "ipython",
    "version": 2
   },
   "file_extension": ".py",
   "mimetype": "text/x-python",
   "name": "python",
   "nbconvert_exporter": "python",
   "pygments_lexer": "ipython2",
   "version": "2.7.13"
  },
  "nav_menu": {},
  "toc": {
   "navigate_menu": true,
   "number_sections": false,
   "sideBar": true,
   "threshold": 6,
   "toc_cell": false,
   "toc_section_display": "block",
   "toc_window_display": true
  }
 },
 "nbformat": 4,
 "nbformat_minor": 2
}
